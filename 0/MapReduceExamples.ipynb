{
  "cells": [
    {
      "cell_type": "markdown",
      "metadata": {
        "id": "82OvPKEiEqjc"
      },
      "source": [
        "# Введение в MapReduce модель на Python\n"
      ]
    },
    {
      "cell_type": "code",
      "execution_count": 55,
      "metadata": {
        "id": "JQ2cvXLjICmI"
      },
      "outputs": [],
      "source": [
        "from typing import NamedTuple # requires python 3.6+\n",
        "from typing import Iterator"
      ]
    },
    {
      "cell_type": "code",
      "execution_count": 56,
      "metadata": {
        "id": "yjPHumVwEyEg"
      },
      "outputs": [],
      "source": [
        "def MAP(_, row:NamedTuple):\n",
        "  if (row.gender == 'female'):\n",
        "    yield (row.age, row)\n",
        "    \n",
        "def REDUCE(age:str, rows:Iterator[NamedTuple]):\n",
        "  sum = 0\n",
        "  count = 0\n",
        "  for row in rows:\n",
        "    sum += row.social_contacts\n",
        "    count += 1\n",
        "  if (count > 0):\n",
        "    yield (age, sum/count)\n",
        "  else:\n",
        "    yield (age, 0)"
      ]
    },
    {
      "cell_type": "markdown",
      "metadata": {
        "id": "vBKMgpG_ilaZ"
      },
      "source": [
        "Модель элемента данных"
      ]
    },
    {
      "cell_type": "code",
      "execution_count": 57,
      "metadata": {
        "id": "Rv-XIjhTJPx3"
      },
      "outputs": [],
      "source": [
        "class User(NamedTuple):\n",
        "  id: int\n",
        "  age: str\n",
        "  social_contacts: int\n",
        "  gender: str"
      ]
    },
    {
      "cell_type": "code",
      "execution_count": 58,
      "metadata": {
        "id": "5KV0Ze2vQgu5"
      },
      "outputs": [],
      "source": [
        "input_collection = [\n",
        "    User(id=0, age=55, gender='male', social_contacts=20),\n",
        "    User(id=1, age=25, gender='female', social_contacts=240),\n",
        "    User(id=2, age=25, gender='female', social_contacts=500),\n",
        "    User(id=3, age=33, gender='female', social_contacts=800)\n",
        "]"
      ]
    },
    {
      "cell_type": "markdown",
      "metadata": {
        "id": "YFeqzyZxZIFZ"
      },
      "source": [
        "Функция RECORDREADER моделирует чтение элементов с диска или по сети."
      ]
    },
    {
      "cell_type": "code",
      "execution_count": 59,
      "metadata": {
        "id": "S5HR4E_GQoMJ"
      },
      "outputs": [],
      "source": [
        "def RECORDREADER():\n",
        "  return [(u.id, u) for u in input_collection]"
      ]
    },
    {
      "cell_type": "code",
      "execution_count": 60,
      "metadata": {
        "colab": {
          "base_uri": "https://localhost:8080/",
          "height": 85
        },
        "id": "NeEoWla-ROUy",
        "outputId": "94ca6e0e-4644-4282-acbf-1759d7ba2918"
      },
      "outputs": [
        {
          "data": {
            "text/plain": [
              "[(0, User(id=0, age=55, social_contacts=20, gender='male')),\n",
              " (1, User(id=1, age=25, social_contacts=240, gender='female')),\n",
              " (2, User(id=2, age=25, social_contacts=500, gender='female')),\n",
              " (3, User(id=3, age=33, social_contacts=800, gender='female'))]"
            ]
          },
          "execution_count": 60,
          "metadata": {},
          "output_type": "execute_result"
        }
      ],
      "source": [
        "list(RECORDREADER())"
      ]
    },
    {
      "cell_type": "code",
      "execution_count": 61,
      "metadata": {
        "id": "YB8orgPSZs8M"
      },
      "outputs": [],
      "source": [
        "def flatten(nested_iterable):\n",
        "  for iterable in nested_iterable:\n",
        "    for element in iterable:\n",
        "      yield element"
      ]
    },
    {
      "cell_type": "code",
      "execution_count": 62,
      "metadata": {
        "colab": {
          "base_uri": "https://localhost:8080/",
          "height": 68
        },
        "id": "74oyvDLaRmd5",
        "outputId": "c6147702-7153-47c7-a574-d5fe6abe29a8"
      },
      "outputs": [
        {
          "data": {
            "text/plain": [
              "[(25, User(id=1, age=25, social_contacts=240, gender='female')),\n",
              " (25, User(id=2, age=25, social_contacts=500, gender='female')),\n",
              " (33, User(id=3, age=33, social_contacts=800, gender='female'))]"
            ]
          },
          "execution_count": 62,
          "metadata": {},
          "output_type": "execute_result"
        }
      ],
      "source": [
        "map_output = flatten(map(lambda x: MAP(*x), RECORDREADER()))\n",
        "map_output = list(map_output) # materialize\n",
        "map_output"
      ]
    },
    {
      "cell_type": "code",
      "execution_count": 63,
      "metadata": {
        "id": "8ncYDJ3-VzDn"
      },
      "outputs": [],
      "source": [
        "def groupbykey(iterable):\n",
        "  t = {}\n",
        "  for (k2, v2) in iterable:\n",
        "    t[k2] = t.get(k2, []) + [v2]\n",
        "  return t.items()"
      ]
    },
    {
      "cell_type": "code",
      "execution_count": 64,
      "metadata": {
        "colab": {
          "base_uri": "https://localhost:8080/",
          "height": 85
        },
        "id": "cKzY_6COWOA2",
        "outputId": "e6791b12-e409-47e9-bcd4-e9f8ca8611bd"
      },
      "outputs": [
        {
          "data": {
            "text/plain": [
              "[(25,\n",
              "  [User(id=1, age=25, social_contacts=240, gender='female'),\n",
              "   User(id=2, age=25, social_contacts=500, gender='female')]),\n",
              " (33, [User(id=3, age=33, social_contacts=800, gender='female')])]"
            ]
          },
          "execution_count": 64,
          "metadata": {},
          "output_type": "execute_result"
        }
      ],
      "source": [
        "shuffle_output = groupbykey(map_output)\n",
        "shuffle_output = list(shuffle_output)\n",
        "shuffle_output"
      ]
    },
    {
      "cell_type": "code",
      "execution_count": 65,
      "metadata": {
        "colab": {
          "base_uri": "https://localhost:8080/",
          "height": 34
        },
        "id": "NlA7lkDDYL0t",
        "outputId": "6b25d03f-5c92-4f3b-f500-6d70acd598b7"
      },
      "outputs": [
        {
          "data": {
            "text/plain": [
              "[(25, 370.0), (33, 800.0)]"
            ]
          },
          "execution_count": 65,
          "metadata": {},
          "output_type": "execute_result"
        }
      ],
      "source": [
        "reduce_output = flatten(map(lambda x: REDUCE(*x), shuffle_output))\n",
        "reduce_output = list(reduce_output)\n",
        "reduce_output"
      ]
    },
    {
      "cell_type": "markdown",
      "metadata": {
        "id": "xf6qhHEtd6bI"
      },
      "source": [
        "Все действия одним конвейером!"
      ]
    },
    {
      "cell_type": "code",
      "execution_count": 66,
      "metadata": {
        "colab": {
          "base_uri": "https://localhost:8080/",
          "height": 34
        },
        "id": "dZaQGYxCdpw5",
        "outputId": "3f5c6425-e5c5-49d2-b2cd-ce58a9acc33c"
      },
      "outputs": [
        {
          "data": {
            "text/plain": [
              "[(25, 370.0), (33, 800.0)]"
            ]
          },
          "execution_count": 66,
          "metadata": {},
          "output_type": "execute_result"
        }
      ],
      "source": [
        "list(flatten(map(lambda x: REDUCE(*x), groupbykey(flatten(map(lambda x: MAP(*x), RECORDREADER()))))))"
      ]
    },
    {
      "cell_type": "markdown",
      "metadata": {
        "id": "Vq3EWRIpwSiJ"
      },
      "source": [
        "# **MapReduce**\n",
        "Выделим общую для всех пользователей часть системы в отдельную функцию высшего порядка. Это наиболее простая модель MapReduce, без учёта распределённого хранения данных. \n",
        "\n",
        "Пользователь для решения своей задачи реализует RECORDREADER, MAP, REDUCE."
      ]
    },
    {
      "cell_type": "code",
      "execution_count": 67,
      "metadata": {
        "id": "V1PZeQMwwVjc"
      },
      "outputs": [],
      "source": [
        "def flatten(nested_iterable):\n",
        "  for iterable in nested_iterable:\n",
        "    for element in iterable:\n",
        "      yield element\n",
        "\n",
        "def groupbykey(iterable):\n",
        "  t = {}\n",
        "  for (k2, v2) in iterable:\n",
        "    t[k2] = t.get(k2, []) + [v2]\n",
        "  return t.items()\n",
        "\n",
        "def MapReduce(RECORDREADER, MAP, REDUCE):\n",
        "  return flatten(map(lambda x: REDUCE(*x), groupbykey(flatten(map(lambda x: MAP(*x), RECORDREADER())))))"
      ]
    },
    {
      "cell_type": "markdown",
      "metadata": {
        "id": "iFIVrimep678"
      },
      "source": [
        "## Спецификация MapReduce\n",
        "\n",
        "\n",
        "\n",
        "```\n",
        "f (k1, v1) -> (k2,v2)*\n",
        "g (k2, v2*) -> (k3,v3)*\n",
        " \n",
        "mapreduce ((k1,v1)*) -> (k3,v3)*\n",
        "groupby ((k2,v2)*) -> (k2,v2*)*\n",
        "flatten (e2**) -> e2*\n",
        " \n",
        "mapreduce .map(f).flatten.groupby(k2).map(g).flatten\n",
        "```\n",
        "\n",
        "\n"
      ]
    },
    {
      "cell_type": "markdown",
      "metadata": {
        "id": "QtTFyqke3KGe"
      },
      "source": [
        "# Примеры"
      ]
    },
    {
      "cell_type": "markdown",
      "metadata": {
        "id": "BNhh5763w5Vn"
      },
      "source": [
        "## SQL "
      ]
    },
    {
      "cell_type": "code",
      "execution_count": 68,
      "metadata": {
        "colab": {
          "base_uri": "https://localhost:8080/",
          "height": 34
        },
        "id": "QkyurnvGxBGk",
        "outputId": "84761282-d2ba-435a-e8d7-a85150730e10"
      },
      "outputs": [
        {
          "data": {
            "text/plain": [
              "[(25, 370.0), (33, 800.0)]"
            ]
          },
          "execution_count": 68,
          "metadata": {},
          "output_type": "execute_result"
        }
      ],
      "source": [
        "from typing import NamedTuple # requires python 3.6+\n",
        "from typing import Iterator\n",
        "\n",
        "class User(NamedTuple):\n",
        "  id: int\n",
        "  age: str\n",
        "  social_contacts: int\n",
        "  gender: str\n",
        "    \n",
        "input_collection = [\n",
        "    User(id=0, age=55, gender='male', social_contacts=20),\n",
        "    User(id=1, age=25, gender='female', social_contacts=240),\n",
        "    User(id=2, age=25, gender='female', social_contacts=500),\n",
        "    User(id=3, age=33, gender='female', social_contacts=800)\n",
        "]\n",
        "\n",
        "def MAP(_, row:NamedTuple):\n",
        "  if (row.gender == 'female'):\n",
        "    yield (row.age, row)\n",
        "    \n",
        "def REDUCE(age:str, rows:Iterator[NamedTuple]):\n",
        "  sum = 0\n",
        "  count = 0\n",
        "  for row in rows:\n",
        "    sum += row.social_contacts\n",
        "    count += 1\n",
        "  if (count > 0):\n",
        "    yield (age, sum/count)\n",
        "  else:\n",
        "    yield (age, 0)\n",
        " \n",
        "def RECORDREADER():\n",
        "  return [(u.id, u) for u in input_collection]\n",
        "\n",
        "output = MapReduce(RECORDREADER, MAP, REDUCE)\n",
        "output = list(output)\n",
        "output"
      ]
    },
    {
      "cell_type": "markdown",
      "metadata": {
        "id": "kNKYIeerx0nY"
      },
      "source": [
        "## Matrix-Vector multiplication "
      ]
    },
    {
      "cell_type": "code",
      "execution_count": 69,
      "metadata": {
        "colab": {
          "base_uri": "https://localhost:8080/",
          "height": 102
        },
        "id": "rwcntRcCyi1V",
        "outputId": "606737ab-6b55-455c-931f-4fc45155f8a9"
      },
      "outputs": [
        {
          "data": {
            "text/plain": [
              "[(0, 2.2765553572824206),\n",
              " (1, 2.2765553572824206),\n",
              " (2, 2.2765553572824206),\n",
              " (3, 2.2765553572824206),\n",
              " (4, 2.2765553572824206)]"
            ]
          },
          "execution_count": 69,
          "metadata": {},
          "output_type": "execute_result"
        }
      ],
      "source": [
        "from typing import Iterator\n",
        "import numpy as np\n",
        "\n",
        "mat = np.ones((5,4))\n",
        "vec = np.random.rand(4) # in-memory vector in all map tasks\n",
        "\n",
        "def MAP(coordinates:(int, int), value:int):\n",
        "  i, j = coordinates\n",
        "  yield (i, value*vec[j])\n",
        " \n",
        "def REDUCE(i:int, products:Iterator[NamedTuple]):\n",
        "  sum = 0\n",
        "  for p in products:\n",
        "    sum += p\n",
        "  yield (i, sum)\n",
        "\n",
        "def RECORDREADER():\n",
        "  for i in range(mat.shape[0]):\n",
        "    for j in range(mat.shape[1]):\n",
        "      yield ((i, j), mat[i,j])\n",
        "      \n",
        "output = MapReduce(RECORDREADER, MAP, REDUCE)\n",
        "output = list(output)\n",
        "output"
      ]
    },
    {
      "cell_type": "markdown",
      "metadata": {
        "id": "ruZREYdi2o4O"
      },
      "source": [
        "## Inverted index "
      ]
    },
    {
      "cell_type": "code",
      "execution_count": 70,
      "metadata": {
        "colab": {
          "base_uri": "https://localhost:8080/",
          "height": 102
        },
        "id": "vt9H9Alf3TYv",
        "outputId": "51aeffc9-e111-4607-bd84-cfcc7b56f238"
      },
      "outputs": [
        {
          "data": {
            "text/plain": [
              "[('what', ['0', '1']),\n",
              " ('is', ['0', '1', '2']),\n",
              " ('it', ['0', '1', '2']),\n",
              " ('banana', ['2']),\n",
              " ('a', ['2'])]"
            ]
          },
          "execution_count": 70,
          "metadata": {},
          "output_type": "execute_result"
        }
      ],
      "source": [
        "from typing import Iterator\n",
        "\n",
        "d1 = \"it is what it is\"\n",
        "d2 = \"what is it\"\n",
        "d3 = \"it is a banana\"\n",
        "documents = [d1, d2, d3]\n",
        "\n",
        "def RECORDREADER():\n",
        "  for (docid, document) in enumerate(documents):\n",
        "    yield (\"{}\".format(docid), document)\n",
        "      \n",
        "def MAP(docId:str, body:str):\n",
        "  for word in set(body.split(' ')):\n",
        "    yield (word, docId)\n",
        " \n",
        "def REDUCE(word:str, docIds:Iterator[str]):\n",
        "  yield (word, sorted(docIds))\n",
        "\n",
        "output = MapReduce(RECORDREADER, MAP, REDUCE)\n",
        "output = list(output)\n",
        "output"
      ]
    },
    {
      "cell_type": "markdown",
      "metadata": {
        "id": "R7az-6DA6qr2"
      },
      "source": [
        "## WordCount"
      ]
    },
    {
      "cell_type": "code",
      "execution_count": 71,
      "metadata": {
        "colab": {
          "base_uri": "https://localhost:8080/",
          "height": 34
        },
        "id": "dN-nbtgG6uYG",
        "outputId": "24117576-7931-401d-a581-28e246b23453"
      },
      "outputs": [
        {
          "data": {
            "text/plain": [
              "[('', 3), ('it', 9), ('is', 9), ('what', 5), ('a', 1), ('banana', 1)]"
            ]
          },
          "execution_count": 71,
          "metadata": {},
          "output_type": "execute_result"
        }
      ],
      "source": [
        "from typing import Iterator\n",
        "\n",
        "d1 = \"\"\"\n",
        "it is what it is\n",
        "it is what it is\n",
        "it is what it is\"\"\"\n",
        "d2 = \"\"\"\n",
        "what is it\n",
        "what is it\"\"\"\n",
        "d3 = \"\"\"\n",
        "it is a banana\"\"\"\n",
        "documents = [d1, d2, d3]\n",
        "\n",
        "def RECORDREADER():\n",
        "  for (docid, document) in enumerate(documents):\n",
        "    for (lineid, line) in enumerate(document.split('\\n')):\n",
        "      yield (\"{}:{}\".format(docid,lineid), line)\n",
        "\n",
        "def MAP(docId:str, line:str):\n",
        "  for word in line.split(\" \"):  \n",
        "    yield (word, 1)\n",
        " \n",
        "def REDUCE(word:str, counts:Iterator[int]):\n",
        "  sum = 0\n",
        "  for c in counts:\n",
        "    sum += c\n",
        "  yield (word, sum)\n",
        "\n",
        "output = MapReduce(RECORDREADER, MAP, REDUCE)\n",
        "output = list(output)\n",
        "output"
      ]
    },
    {
      "cell_type": "markdown",
      "metadata": {
        "id": "h-jRAcYCAkkk"
      },
      "source": [
        "# MapReduce Distributed\n",
        "\n",
        "Добавляется в модель фабрика RECORDREARER-ов --- INPUTFORMAT, функция распределения промежуточных результатов по партициям PARTITIONER, и функция COMBINER для частичной аггрегации промежуточных результатов до распределения по новым партициям."
      ]
    },
    {
      "cell_type": "code",
      "execution_count": 72,
      "metadata": {
        "id": "nw-b-xJsApgW"
      },
      "outputs": [],
      "source": [
        "def flatten(nested_iterable):\n",
        "  for iterable in nested_iterable:\n",
        "    for element in iterable:\n",
        "      yield element\n",
        "\n",
        "def groupbykey(iterable):\n",
        "  t = {}\n",
        "  for (k2, v2) in iterable:\n",
        "    t[k2] = t.get(k2, []) + [v2]\n",
        "  return t.items()\n",
        "      \n",
        "def groupbykey_distributed(map_partitions, PARTITIONER):\n",
        "  global reducers\n",
        "  partitions = [dict() for _ in range(reducers)]\n",
        "  for map_partition in map_partitions:\n",
        "    for (k2, v2) in map_partition:\n",
        "      p = partitions[PARTITIONER(k2)]\n",
        "      p[k2] = p.get(k2, []) + [v2]\n",
        "  return [(partition_id, sorted(partition.items(), key=lambda x: x[0])) for (partition_id, partition) in enumerate(partitions)]\n",
        " \n",
        "def PARTITIONER(obj):\n",
        "  global reducers\n",
        "  return hash(obj) % reducers\n",
        "  \n",
        "def MapReduceDistributed(INPUTFORMAT, MAP, REDUCE, PARTITIONER=PARTITIONER, COMBINER=None):\n",
        "  map_partitions = map(lambda record_reader: flatten(map(lambda k1v1: MAP(*k1v1), record_reader)), INPUTFORMAT())\n",
        "  if COMBINER != None:\n",
        "    map_partitions = map(lambda map_partition: flatten(map(lambda k2v2: COMBINER(*k2v2), groupbykey(map_partition))), map_partitions)\n",
        "  reduce_partitions = groupbykey_distributed(map_partitions, PARTITIONER) # shuffle\n",
        "  reduce_outputs = map(lambda reduce_partition: (reduce_partition[0], flatten(map(lambda reduce_input_group: REDUCE(*reduce_input_group), reduce_partition[1]))), reduce_partitions)\n",
        "  \n",
        "  print(\"{} key-value pairs were sent over a network.\".format(sum([len(vs) for (k,vs) in flatten([partition for (partition_id, partition) in reduce_partitions])])))\n",
        "  return reduce_outputs"
      ]
    },
    {
      "cell_type": "markdown",
      "metadata": {
        "id": "kxirlf3XqZxY"
      },
      "source": [
        "## Спецификация MapReduce Distributed\n",
        "\n",
        "\n",
        "```\n",
        "f (k1, v1) -> (k2,v2)*\n",
        "g (k2, v2*) -> (k3,v3)*\n",
        " \n",
        "e1 (k1, v1)\n",
        "e2 (k2, v2)\n",
        "partition1 (k2, v2)*\n",
        "partition2 (k2, v2*)*\n",
        " \n",
        "flatmap (e1->e2*, e1*) -> partition1*\n",
        "groupby (partition1*) -> partition2*\n",
        "\n",
        "mapreduce ((k1,v1)*) -> (k3,v3)*\n",
        "mapreduce .flatmap(f).groupby(k2).flatmap(g)\n",
        "```\n",
        "\n"
      ]
    },
    {
      "cell_type": "markdown",
      "metadata": {
        "id": "CWYw_CpbbY3C"
      },
      "source": [
        "## WordCount "
      ]
    },
    {
      "cell_type": "code",
      "execution_count": 73,
      "metadata": {
        "colab": {
          "base_uri": "https://localhost:8080/",
          "height": 68
        },
        "id": "uR_zfGFkMZlp",
        "outputId": "c8d46167-473d-43b9-881a-2396991b3731"
      },
      "outputs": [
        {
          "name": "stdout",
          "output_type": "stream",
          "text": [
            "56 key-value pairs were sent over a network.\n"
          ]
        },
        {
          "data": {
            "text/plain": [
              "[(0, [('', 6), ('a', 2), ('banana', 2), ('is', 18), ('what', 10)]),\n",
              " (1, [('it', 18)])]"
            ]
          },
          "execution_count": 73,
          "metadata": {},
          "output_type": "execute_result"
        }
      ],
      "source": [
        "from typing import Iterator\n",
        "import numpy as np\n",
        "\n",
        "d1 = \"\"\"\n",
        "it is what it is\n",
        "it is what it is\n",
        "it is what it is\"\"\"\n",
        "d2 = \"\"\"\n",
        "what is it\n",
        "what is it\"\"\"\n",
        "d3 = \"\"\"\n",
        "it is a banana\"\"\"\n",
        "documents = [d1, d2, d3, d1, d2, d3]\n",
        "\n",
        "maps = 3\n",
        "reducers = 2\n",
        "\n",
        "def INPUTFORMAT():\n",
        "  global maps\n",
        "  \n",
        "  def RECORDREADER(split):\n",
        "    for (docid, document) in enumerate(split):\n",
        "      for (lineid, line) in enumerate(document.split('\\n')):\n",
        "        yield (\"{}:{}\".format(docid,lineid), line)\n",
        "      \n",
        "  split_size =  int(np.ceil(len(documents)/maps))\n",
        "  for i in range(0, len(documents), split_size):\n",
        "    yield RECORDREADER(documents[i:i+split_size])\n",
        "\n",
        "def MAP(docId:str, line:str):\n",
        "  for word in line.split(\" \"):  \n",
        "    yield (word, 1)\n",
        " \n",
        "def REDUCE(word:str, counts:Iterator[int]):\n",
        "  sum = 0\n",
        "  for c in counts:\n",
        "    sum += c\n",
        "  yield (word, sum)\n",
        "  \n",
        "# try to set COMBINER=REDUCER and look at the number of values sent over the network \n",
        "partitioned_output = MapReduceDistributed(INPUTFORMAT, MAP, REDUCE, COMBINER=None) \n",
        "partitioned_output = [(partition_id, list(partition)) for (partition_id, partition) in partitioned_output]\n",
        "partitioned_output"
      ]
    },
    {
      "cell_type": "markdown",
      "metadata": {
        "id": "gCJGx8IQ87xS"
      },
      "source": [
        "## TeraSort"
      ]
    },
    {
      "cell_type": "code",
      "execution_count": 74,
      "metadata": {
        "colab": {
          "base_uri": "https://localhost:8080/",
          "height": 578
        },
        "id": "P2v8v1v_8_YR",
        "outputId": "e0987c25-9757-46cb-8e55-d5d2adfbee2b"
      },
      "outputs": [
        {
          "name": "stdout",
          "output_type": "stream",
          "text": [
            "30 key-value pairs were sent over a network.\n"
          ]
        },
        {
          "data": {
            "text/plain": [
              "[(0,\n",
              "  [(None, 0.03050024993904943),\n",
              "   (None, 0.035942273796742086),\n",
              "   (None, 0.03734818874921442),\n",
              "   (None, 0.093981939840869),\n",
              "   (None, 0.12706051265188478),\n",
              "   (None, 0.2865412521282844),\n",
              "   (None, 0.29359184426449336),\n",
              "   (None, 0.3379951568515358),\n",
              "   (None, 0.35949115121975517),\n",
              "   (None, 0.3601906414112629),\n",
              "   (None, 0.375582952639944),\n",
              "   (None, 0.46559801813246016)]),\n",
              " (1,\n",
              "  [(None, 0.5015162946871996),\n",
              "   (None, 0.5113423988609378),\n",
              "   (None, 0.5222432600548044),\n",
              "   (None, 0.5426446347075766),\n",
              "   (None, 0.578280140996174),\n",
              "   (None, 0.5908332605690108),\n",
              "   (None, 0.6499639307777652),\n",
              "   (None, 0.697015740995268),\n",
              "   (None, 0.7019668772577033),\n",
              "   (None, 0.7024840839871093),\n",
              "   (None, 0.795792669436101),\n",
              "   (None, 0.7982951789667752),\n",
              "   (None, 0.8093611554785136),\n",
              "   (None, 0.8101133946791808),\n",
              "   (None, 0.8226005606596583),\n",
              "   (None, 0.8670723185801037),\n",
              "   (None, 0.8900053418175663),\n",
              "   (None, 0.9132405525564713)])]"
            ]
          },
          "execution_count": 74,
          "metadata": {},
          "output_type": "execute_result"
        }
      ],
      "source": [
        "import numpy as np\n",
        "\n",
        "input_values = np.random.rand(30)\n",
        "maps = 3\n",
        "reducers = 2\n",
        "min_value = 0.0\n",
        "max_value = 1.0\n",
        "\n",
        "def INPUTFORMAT():\n",
        "  global maps\n",
        "  \n",
        "  def RECORDREADER(split):\n",
        "    for value in split:\n",
        "        yield (value, None)\n",
        "      \n",
        "  split_size =  int(np.ceil(len(input_values)/maps))\n",
        "  for i in range(0, len(input_values), split_size):\n",
        "    yield RECORDREADER(input_values[i:i+split_size])\n",
        "    \n",
        "def MAP(value:int, _):\n",
        "  yield (value, None)\n",
        "  \n",
        "def PARTITIONER(key):\n",
        "  global reducers\n",
        "  global max_value\n",
        "  global min_value\n",
        "  bucket_size = (max_value-min_value)/reducers\n",
        "  bucket_id = 0\n",
        "  while((key>(bucket_id+1)*bucket_size) and ((bucket_id+1)*bucket_size<max_value)):\n",
        "    bucket_id += 1\n",
        "  return bucket_id\n",
        "\n",
        "def REDUCE(value:int, _):\n",
        "  yield (None,value)\n",
        "  \n",
        "partitioned_output = MapReduceDistributed(INPUTFORMAT, MAP, REDUCE, COMBINER=None, PARTITIONER=PARTITIONER)\n",
        "partitioned_output = [(partition_id, list(partition)) for (partition_id, partition) in partitioned_output]\n",
        "partitioned_output"
      ]
    },
    {
      "cell_type": "code",
      "execution_count": null,
      "metadata": {
        "id": "MQhoJaVZI93G"
      },
      "outputs": [],
      "source": []
    },
    {
      "cell_type": "markdown",
      "metadata": {
        "id": "Iy65YJTH99iT"
      },
      "source": [
        "# Упражнения\n",
        "Упражнения взяты из Rajaraman A., Ullman J. D. Mining of massive datasets. – Cambridge University Press, 2011.\n",
        "\n",
        "\n",
        "Для выполнения заданий переопределите функции RECORDREADER, MAP, REDUCE. Для модели распределённой системы может потребоваться переопределение функций PARTITION и COMBINER."
      ]
    },
    {
      "cell_type": "markdown",
      "metadata": {
        "id": "cfvAeZm3S8S8"
      },
      "source": [
        "### Максимальное значение ряда\n",
        "\n",
        "Разработайте MapReduce алгоритм, который находит максимальное число входного списка чисел."
      ]
    },
    {
      "cell_type": "code",
      "execution_count": 83,
      "metadata": {
        "id": "3GRA1JR-Tkbg"
      },
      "outputs": [
        {
          "name": "stdout",
          "output_type": "stream",
          "text": [
            "Исходные данные:  [73, 89, 33, 6, 67, 57, 74, 28, 35, 88, 20, 35, 9, 72, 23]\n",
            "Максимум: 89\n"
          ]
        }
      ],
      "source": [
        "import numpy as np\n",
        "from functools import reduce\n",
        "\n",
        "# генерация случайных чисел от 0 до 100\n",
        "def RECORDREADER(count):\n",
        "    return [np.random.randint(0, 100) for _ in range(count)]\n",
        "\n",
        "\n",
        "def MAP(numList):\n",
        "    return max(numList)\n",
        "\n",
        "\n",
        "def REDUCE(max1, max2):\n",
        "    return max(max1, max2)\n",
        "\n",
        "# генерация списка из случайных чисел\n",
        "record = RECORDREADER(15)\n",
        "print(\"Исходные данные: \", record)\n",
        "\n",
        "# нахождение максимального значения в каждом элементе\n",
        "mapped_values = map(MAP, [record])  \n",
        "\n",
        "# поиск максимального значения среди элементов mapped_values\n",
        "result = reduce(REDUCE, mapped_values)\n",
        "\n",
        "print(\"Максимум:\", result)"
      ]
    },
    {
      "cell_type": "markdown",
      "metadata": {
        "id": "k86bXnqZTk-U"
      },
      "source": [
        "### Арифметическое среднее\n",
        "\n",
        "Разработайте MapReduce алгоритм, который находит арифметическое среднее.\n",
        "\n",
        "$$\\overline{X} = \\frac{1}{n}\\sum_{i=0}^{n} x_i$$\n"
      ]
    },
    {
      "cell_type": "code",
      "execution_count": 98,
      "metadata": {
        "id": "MPoY5pkfUNZf"
      },
      "outputs": [
        {
          "name": "stdout",
          "output_type": "stream",
          "text": [
            "Исходные данные:  [89, 7, 57, 59, 49, 27, 91, 40, 99, 63, 26, 62, 16, 72, 32]\n",
            "Результат маппинга:  [(1, 89), (1, 7), (1, 57), (1, 59), (1, 49), (1, 27), (1, 91), (1, 40), (1, 99), (1, 63), (1, 26), (1, 62), (1, 16), (1, 72), (1, 32)]\n",
            "Арифметическое среднее: 52.6\n"
          ]
        }
      ],
      "source": [
        "from typing import Iterator, Tuple\n",
        "\n",
        "# функция создает пару (1, num)\n",
        "def MAP(num):\n",
        "    return (1, num)\n",
        "\n",
        "# вычисление среднего значения из итератора Tuple\n",
        "def REDUCE(key, nums: Iterator[Tuple[int, int]]):\n",
        "    total_sum = 0\n",
        "    count = 0\n",
        "    for n in nums:  # Перебираем только числа, пропуская ключи\n",
        "        total_sum += n[1]  # Извлекаем второй элемент кортежа\n",
        "        count += 1\n",
        "    yield total_sum / count\n",
        "\n",
        "# генерация случайных чисел от 0 до 100\n",
        "def RECORDREADER(count):\n",
        "    return [np.random.randint(0, 100) for _ in range(count)]\n",
        "\n",
        "# генерация списка из 15 случайных чисел\n",
        "record = RECORDREADER(15)\n",
        "print(\"Исходные данные: \", record)\n",
        "\n",
        "# создаем пары с фиктивным ключом 1\n",
        "mapped_values = list(map(MAP, record))\n",
        "print(\"Результат маппинга: \", mapped_values)\n",
        "\n",
        "# создаем группу по фиктивному ключу 1 и выполняем REDUCE\n",
        "reduce_output = list(REDUCE(1, mapped_values))  # Исправлено на mapped_values\n",
        "\n",
        "print(\"Арифметическое среднее:\", reduce_output[0])"
      ]
    },
    {
      "cell_type": "markdown",
      "metadata": {
        "id": "xanzszhsIlLe"
      },
      "source": [
        "### GroupByKey на основе сортировки\n",
        "\n",
        "Реализуйте groupByKey на основе сортировки, проверьте его работу на примерах"
      ]
    },
    {
      "cell_type": "code",
      "execution_count": null,
      "metadata": {
        "id": "hQPn3USsIkEC"
      },
      "outputs": [
        {
          "name": "stdout",
          "output_type": "stream",
          "text": [
            "Исходные данные:  [0, 47, 11, 68, 36, 31, 8, 98, 18, 47, 79, 2, 19, 23, 53]\n",
            "Результаты маппинга: [(1, 0), (1, 47), (1, 11), (1, 68), (1, 36), (1, 31), (1, 8), (1, 98), (1, 18), (1, 47), (1, 79), (1, 2), (1, 19), (1, 23), (1, 53)]\n",
            "Shuffle output: [(1, [0, 47, 11, 68, 36, 31, 8, 98, 18, 47, 79, 2, 19, 23, 53])]\n",
            "Арифметическое среднее: [36.0]\n"
          ]
        }
      ],
      "source": [
        "from typing import List, Tuple\n",
        "\n",
        "# функция создает пару (1, num)\n",
        "def MAP(num):\n",
        "    return (1, num)\n",
        "\n",
        "# вычисление среднего значения из итератора Tuple\n",
        "def REDUCE(key, nums: Iterator[int]):\n",
        "    sum = 0\n",
        "    count = 0\n",
        "    for n in nums:\n",
        "        sum += n\n",
        "        count += 1\n",
        "    yield sum / count\n",
        "\n",
        "# генерация случайных чисел от 0 до 100\n",
        "def RECORDREADER(count):\n",
        "    return [np.random.randint(0, 100) for _ in range(count)]\n",
        "\n",
        "# функция для группировки по ключу с использованием сортировки\n",
        "def group_by_key(iterable: List[Tuple[int, int]]):\n",
        "    grouped_data = {}\n",
        "    for key, value in sorted(iterable, key=lambda x: x[0]):\n",
        "        grouped_data.setdefault(key, []).append(value)\n",
        "    return list(grouped_data.items())\n",
        "\n",
        "# генерация списка из 15 случайных чисел\n",
        "record = RECORDREADER(15)\n",
        "print(\"Исходные данные: \", record)\n",
        "\n",
        "# Применение функции MAP к результату функции RECORDREADER\n",
        "map_output = list(map(lambda x: MAP(x), record))\n",
        "print(\"Результаты маппинга:\", map_output)\n",
        "\n",
        "# Группировка по ключу и преобразование в список\n",
        "shuffle_output = group_by_key(map_output)\n",
        "print(\"Shuffle output:\", shuffle_output)\n",
        "\n",
        "# Применение функции REDUCE к результату группировки\n",
        "reduce_output = list(flatten(map(lambda x: REDUCE(*x), shuffle_output)))\n",
        "print(\"Арифметическое среднее:\", reduce_output)"
      ]
    },
    {
      "cell_type": "markdown",
      "metadata": {
        "id": "5SgEjCZyGnu6"
      },
      "source": [
        "### Drop duplicates (set construction, unique elements, distinct)\n",
        "\n",
        "Реализуйте распределённую операцию исключения дубликатов"
      ]
    },
    {
      "cell_type": "code",
      "execution_count": null,
      "metadata": {
        "id": "okjbyApjGhMt"
      },
      "outputs": [
        {
          "name": "stdout",
          "output_type": "stream",
          "text": [
            "56 key-value pairs were sent over a network.\n"
          ]
        },
        {
          "data": {
            "text/plain": [
              "[(0, [('', 6), ('a', 2), ('banana', 2), ('is', 18), ('what', 10)]),\n",
              " (1, [('it', 18)])]"
            ]
          },
          "execution_count": 31,
          "metadata": {},
          "output_type": "execute_result"
        }
      ],
      "source": [
        "from itertools import chain\n",
        "\n",
        "d1 = \"\"\"\n",
        "it is what it is\n",
        "it is what it is\n",
        "it is what it is\"\"\"\n",
        "d2 = \"\"\"\n",
        "what is it\n",
        "what is it\"\"\"\n",
        "d3 = \"\"\"\n",
        "it is a banana\"\"\"\n",
        "documents = [d1, d2, d3, d1, d2, d3]\n",
        "\n",
        "maps = 2\n",
        "reducers = 2 \n",
        "\n",
        "def INPUTFORMAT():\n",
        "  global maps\n",
        "\n",
        "  def RECORDREADER(split):\n",
        "    for (docid, document) in enumerate(split):\n",
        "      for (lineid, line) in enumerate(document.split('\\n')):\n",
        "        yield (\"{}:{}\".format(docid,lineid), line)\n",
        "\n",
        "  split_size =  int(np.ceil(len(documents)/maps))\n",
        "  for i in range(0, len(documents), split_size):\n",
        "    yield RECORDREADER(documents[i:i+split_size])\n",
        "\n",
        "def MAP(docId:str, line:str):\n",
        "  for word in line.split(\" \"):\n",
        "    yield (word, 1)\n",
        "\n",
        "def REDUCE(word:str, counts:Iterator[int]):\n",
        "  sum = 0\n",
        "  for c in counts:\n",
        "    sum += c\n",
        "  yield (word, sum)\n",
        "\n",
        "partitioned_output = MapReduceDistributed(INPUTFORMAT, MAP, REDUCE, COMBINER=None)\n",
        "partitioned_output = [(partition_id, list(partition)) for (partition_id, partition) in partitioned_output]\n",
        "partitioned_output"
      ]
    },
    {
      "cell_type": "markdown",
      "metadata": {
        "id": "e7sRGoTXuJze"
      },
      "source": [
        "#Операторы реляционной алгебры\n",
        "### Selection (Выборка)\n",
        "\n",
        "**The Map Function**: Для  каждого кортежа $t \\in R$ вычисляется истинность предиката $C$. В случае истины создаётся пара ключ-значение $(t, t)$. В паре ключ и значение одинаковы, равны $t$.\n",
        "\n",
        "**The Reduce Function:** Роль функции Reduce выполняет функция идентичности, которая возвращает то же значение, что получила на вход.\n",
        "\n"
      ]
    },
    {
      "cell_type": "code",
      "execution_count": null,
      "metadata": {
        "id": "4nKIKe59uIfc"
      },
      "outputs": [
        {
          "data": {
            "text/plain": [
              "[(User(id=1, age=25, social_contacts=240, gender='female'),\n",
              "  [User(id=1, age=25, social_contacts=240, gender='female')]),\n",
              " (User(id=2, age=25, social_contacts=500, gender='female'),\n",
              "  [User(id=2, age=25, social_contacts=500, gender='female')]),\n",
              " (User(id=3, age=33, social_contacts=800, gender='female'),\n",
              "  [User(id=3, age=33, social_contacts=800, gender='female')])]"
            ]
          },
          "execution_count": 32,
          "metadata": {},
          "output_type": "execute_result"
        }
      ],
      "source": [
        "# Предикат C проверяет параметр gender\n",
        "def MAP_SELECT(_, row: NamedTuple):\n",
        "    if row.gender == \"female\":\n",
        "        yield (row, row)\n",
        "\n",
        "\n",
        "def REDUCE_SELECT(row: str, rows: Iterator[NamedTuple]):\n",
        "    yield (row, rows)\n",
        "\n",
        "\n",
        "def RECORDREADER():\n",
        "    return [(u.id, u) for u in input_collection]\n",
        "\n",
        "\n",
        "output = MapReduce(RECORDREADER, MAP_SELECT, REDUCE_SELECT)\n",
        "output = list(output)\n",
        "output"
      ]
    },
    {
      "cell_type": "markdown",
      "metadata": {
        "id": "w27Ca-_Ku85V"
      },
      "source": [
        "### Projection (Проекция)\n",
        "\n",
        "Проекция на множество атрибутов $S$.\n",
        "\n",
        "**The Map Function:** Для каждого кортежа $t \\in R$ создайте кортеж $t′$, исключая  из $t$ те значения, атрибуты которых не принадлежат  $S$. Верните пару $(t′, t′)$.\n",
        "\n",
        "**The Reduce Function:** Для каждого ключа $t′$, созданного любой Map задачей, вы получаете одну или несколько пар $(t′, t′)$. Reduce функция преобразует $(t′, [t′, t′, . . . , t′])$ в $(t′, t′)$, так, что для ключа $t′$ возвращается одна пара  $(t′, t′)$."
      ]
    },
    {
      "cell_type": "code",
      "execution_count": null,
      "metadata": {
        "id": "BEvuY4GqvhS6"
      },
      "outputs": [
        {
          "data": {
            "text/plain": [
              "[(0,\n",
              "  [{'id': 0, 'age': 54, 'gender': 'male', 'social_contacts': 20},\n",
              "   {'id': 0, 'age': 25, 'gender': 'female', 'social_contacts': 240}]),\n",
              " (1, [{'id': 1, 'age': 27, 'social_contacts': 642}]),\n",
              " (2,\n",
              "  [{'id': 2, 'age': 16, 'gender': 'male', 'social_contacts': 123},\n",
              "   {'id': 2, 'age': 35, 'social_contacts': 247}]),\n",
              " (3,\n",
              "  [{'id': 3, 'age': 31, 'gender': 'male', 'social_contacts': 521},\n",
              "   {'id': 3, 'age': 32, 'gender': 'female', 'social_contacts': 753}])]"
            ]
          },
          "execution_count": 33,
          "metadata": {},
          "output_type": "execute_result"
        }
      ],
      "source": [
        "input_collection = [\n",
        "    dict(id=0, age=54, gender=\"male\", social_contacts=20),\n",
        "    dict(id=0, age=25, gender=\"female\", social_contacts=240),\n",
        "    dict(id=1, age=27, gender=\"undefined\", social_contacts=642),\n",
        "    dict(id=2, age=16, gender=\"male\", social_contacts=123),\n",
        "    dict(id=2, age=35, gender=\"undefined\", social_contacts=247),\n",
        "    dict(id=3, age=31, gender=\"male\", social_contacts=521),\n",
        "    dict(id=3, age=32, gender=\"female\", social_contacts=753),\n",
        "]\n",
        "     \n",
        "\n",
        "def MAP_PROJECTION(_, row: dict):\n",
        "    S = [\"male\", \"female\"]\n",
        "    if row[\"gender\"] in S:\n",
        "        yield (row[\"id\"], row)\n",
        "    else:\n",
        "        # удаляем поле gender у полученого словаря\n",
        "        modified_row = row.copy()\n",
        "        del modified_row[\"gender\"]\n",
        "        yield (modified_row[\"id\"], modified_row)\n",
        "\n",
        "\n",
        "def REDUCE_PROJECTION(row: str, rows: Iterator[NamedTuple]):\n",
        "    yield (row, rows)\n",
        "\n",
        "\n",
        "def RECORDREADER():\n",
        "    return [(u[\"id\"], u) for u in input_collection]\n",
        "\n",
        "\n",
        "output = MapReduce(RECORDREADER, MAP_PROJECTION, REDUCE_PROJECTION)\n",
        "output = list(output)\n",
        "output"
      ]
    },
    {
      "cell_type": "markdown",
      "metadata": {
        "id": "7gau6lKXvn2R"
      },
      "source": [
        "### Union (Объединение)\n",
        "\n",
        "**The Map Function:** Превратите каждый входной кортеж $t$ в пару ключ-значение $(t, t)$.\n",
        "\n",
        "**The Reduce Function:** С каждым ключом $t$ будет ассоциировано одно или два значений. В обоих случаях создайте $(t, t)$ в качестве выходного значения."
      ]
    },
    {
      "cell_type": "code",
      "execution_count": null,
      "metadata": {
        "id": "Sns7a5agv3nw"
      },
      "outputs": [
        {
          "data": {
            "text/plain": [
              "[(User(id=1, age=54, social_contacts=20, gender='male'),\n",
              "  User(id=1, age=54, social_contacts=20, gender='male')),\n",
              " (User(id=2, age=25, social_contacts=240, gender='female'),\n",
              "  User(id=2, age=25, social_contacts=240, gender='female')),\n",
              " (User(id=3, age=27, social_contacts=642, gender='male'),\n",
              "  User(id=3, age=27, social_contacts=642, gender='male')),\n",
              " (User(id=4, age=16, social_contacts=123, gender='male'),\n",
              "  User(id=4, age=16, social_contacts=123, gender='male')),\n",
              " (User(id=5, age=35, social_contacts=247, gender='female'),\n",
              "  User(id=5, age=35, social_contacts=247, gender='female')),\n",
              " (User(id=6, age=31, social_contacts=521, gender='male'),\n",
              "  User(id=6, age=31, social_contacts=521, gender='male')),\n",
              " (User(id=7, age=32, social_contacts=753, gender='female'),\n",
              "  User(id=7, age=32, social_contacts=753, gender='female'))]"
            ]
          },
          "execution_count": 34,
          "metadata": {},
          "output_type": "execute_result"
        }
      ],
      "source": [
        "input_collection_a = [\n",
        "    User(id=1, age=54, gender=\"male\", social_contacts=20),\n",
        "    User(id=2, age=25, gender=\"female\", social_contacts=240),\n",
        "    User(id=3, age=27, gender=\"male\", social_contacts=642),\n",
        "    User(id=4, age=16, gender=\"male\", social_contacts=123),\n",
        "    User(id=5, age=35, gender=\"female\", social_contacts=247),\n",
        "]\n",
        "\n",
        "input_collection_b = [\n",
        "    User(id=5, age=35, gender=\"female\", social_contacts=247),\n",
        "    User(id=6, age=31, gender=\"male\", social_contacts=521),\n",
        "    User(id=7, age=32, gender=\"female\", social_contacts=753),\n",
        "]\n",
        "\n",
        "# группировка по id\n",
        "def MAP_UNION(_, row: NamedTuple):\n",
        "    yield (row.id, row)\n",
        "\n",
        "# создаем пары (t, t)\n",
        "def REDUCE_UNION(row: str, rows: Iterator[NamedTuple]):\n",
        "    yield (rows[0], rows[0])\n",
        "\n",
        "\n",
        "def RECORDREADER():\n",
        "    return [(u.id, u) for u in input_collection_a + input_collection_b]\n",
        "\n",
        "\n",
        "output = MapReduce(RECORDREADER, MAP_UNION, REDUCE_UNION)\n",
        "output = list(output)\n",
        "output"
      ]
    },
    {
      "cell_type": "markdown",
      "metadata": {
        "id": "dQ8TuEbjv4J8"
      },
      "source": [
        "### Intersection (Пересечение)\n",
        "\n",
        "**The Map Function:** Превратите каждый кортеж $t$ в пары ключ-значение $(t, t)$.\n",
        "\n",
        "**The Reduce Function:** Если для ключа $t$ есть список из двух элементов $[t, t]$ $-$ создайте пару $(t, t)$. Иначе, ничего не создавайте."
      ]
    },
    {
      "cell_type": "code",
      "execution_count": null,
      "metadata": {
        "id": "XKlBZh4IwERR"
      },
      "outputs": [
        {
          "data": {
            "text/plain": [
              "[[User(id=5, age=35, social_contacts=247, gender='female'),\n",
              "  User(id=5, age=35, social_contacts=247, gender='female')]]"
            ]
          },
          "execution_count": 35,
          "metadata": {},
          "output_type": "execute_result"
        }
      ],
      "source": [
        "# группировка по id\n",
        "def MAP_INTERSECTION(_, row: NamedTuple):\n",
        "    yield (row.id, row)\n",
        "\n",
        "# возвращает пользователя, только если он присутствует в обоих выборках\n",
        "def REDUCE_INTERSECTION(row_id: int, rows: Iterator[NamedTuple]):\n",
        "    if len(rows) == 2:\n",
        "        yield rows\n",
        "\n",
        "\n",
        "def RECORDREADER():\n",
        "    return [(u.id, u) for u in input_collection_a + input_collection_b]\n",
        "\n",
        "\n",
        "output = MapReduce(RECORDREADER, MAP_INTERSECTION, REDUCE_INTERSECTION)\n",
        "output = list(output)\n",
        "output"
      ]
    },
    {
      "cell_type": "markdown",
      "metadata": {
        "id": "AVOpqoY3wE5k"
      },
      "source": [
        "### Difference (Разница)\n",
        "\n",
        "**The Map Function:** Для кортежа $t \\in R$, создайте пару $(t, R)$, и для кортежа $t \\in S$, создайте пару $(t, S)$. Задумка заключается в том, чтобы значение пары было именем отношения $R$ or $S$, которому принадлежит кортеж (а лучше, единичный бит, по которому можно два отношения различить $R$ or $S$), а не весь набор атрибутов отношения.\n",
        "\n",
        "**The Reduce Function:** Для каждого ключа $t$, если соответствующее значение является списком $[R]$, создайте пару $(t, t)$. В иных случаях не предпринимайте действий."
      ]
    },
    {
      "cell_type": "code",
      "execution_count": null,
      "metadata": {
        "id": "QE_AC09lwZIZ"
      },
      "outputs": [
        {
          "data": {
            "text/plain": [
              "[User(id=1, age=54, social_contacts=20, gender='male'),\n",
              " User(id=2, age=25, social_contacts=240, gender='female'),\n",
              " User(id=3, age=27, social_contacts=642, gender='male'),\n",
              " User(id=4, age=16, social_contacts=123, gender='male')]"
            ]
          },
          "execution_count": 36,
          "metadata": {},
          "output_type": "execute_result"
        }
      ],
      "source": [
        "# группировка по id\n",
        "def MAP_DIFFERENCE(collection_id, user):\n",
        "    yield (user, collection_id)\n",
        "\n",
        "# возвращает пользователей, входящих только в первую выборку\n",
        "def REDUCE_DIFFERENCE(user, collections):\n",
        "    if collections == [0]:\n",
        "        yield (user)\n",
        "\n",
        "\n",
        "def RECORDREADER():\n",
        "    return [(0, a) for a in input_collection_a] + [(1, b) for b in input_collection_b]\n",
        "\n",
        "\n",
        "output = MapReduce(RECORDREADER, MAP_DIFFERENCE, REDUCE_DIFFERENCE)\n",
        "output = list(output)\n",
        "output"
      ]
    },
    {
      "cell_type": "markdown",
      "metadata": {
        "id": "j8I58V2VwhSm"
      },
      "source": [
        "### Natural Join\n",
        "\n",
        "**The Map Function:** Для каждого кортежа $(a, b)$ отношения $R$, создайте пару $(b,(R, a))$. Для каждого кортежа $(b, c)$ отношения $S$, создайте пару $(b,(S, c))$.\n",
        "\n",
        "**The Reduce Function:** Каждый ключ $b$ будет асоциирован со списком пар, которые принимают форму либо $(R, a)$, либо $(S, c)$. Создайте все пары, одни, состоящие из  первого компонента $R$, а другие, из первого компонента $S$, то есть $(R, a)$ и $(S, c)$. На выходе вы получаете последовательность пар ключ-значение из списков ключей и значений. Ключ не нужен. Каждое значение, это тройка $(a, b, c)$ такая, что $(R, a)$ и $(S, c)$ это принадлежат входному списку значений."
      ]
    },
    {
      "cell_type": "code",
      "execution_count": null,
      "metadata": {
        "id": "yHiuuTctw86I"
      },
      "outputs": [
        {
          "data": {
            "text/plain": [
              "[('A', 1, 'apple'), ('B', 2, 'banana'), ('C', 3, 'cherry')]"
            ]
          },
          "execution_count": 37,
          "metadata": {},
          "output_type": "execute_result"
        }
      ],
      "source": [
        "def MAP(record, source):\n",
        "    if source == \"R\":\n",
        "        a, b = record\n",
        "        yield (b, (\"R\", a))\n",
        "    elif source == \"S\":\n",
        "        b, c = record\n",
        "        yield (b, (\"S\", c))\n",
        "\n",
        "# создает пары для каждого соединения\n",
        "def REDUCE(b, values):\n",
        "    r_values = [a for src, a in values if src == \"R\"]\n",
        "    s_values = [c for src, c in values if src == \"S\"]\n",
        "\n",
        "    for a in r_values:\n",
        "        for c in s_values:\n",
        "            yield (a, b, c)\n",
        "\n",
        "\n",
        "def RECORDREADER():\n",
        "    \"\"\"Данные для соединения: R(a, b) и S(b, c).\"\"\"\n",
        "    R = [(\"A\", 1), (\"B\", 2), (\"C\", 3)]  # (a, b)\n",
        "    S = [(1, \"apple\"), (2, \"banana\"), (3, \"cherry\")]  # (b, c)\n",
        "    return [(r, \"R\") for r in R] + [(s, \"S\") for s in S]\n",
        "\n",
        "\n",
        "result = list(MapReduce(RECORDREADER, MAP, REDUCE))\n",
        "result"
      ]
    },
    {
      "cell_type": "markdown",
      "metadata": {
        "id": "kYdlr0YUxE27"
      },
      "source": [
        "### Grouping and Aggregation (Группировка и аггрегация)\n",
        "\n",
        "**The Map Function:** Для каждого кортежа $(a, b, c$) создайте пару $(a, b)$.\n",
        "\n",
        "**The Reduce Function:** Ключ представляет ту или иную группу. Примение аггрегирующую операцию $\\theta$ к списку значений $[b1, b2, . . . , bn]$ ассоциированных с ключом $a$. Возвращайте в выходной поток $(a, x)$, где $x$ результат применения  $\\theta$ к списку. Например, если $\\theta$ это $SUM$, тогда $x = b1 + b2 + · · · + bn$, а если $\\theta$ is $MAX$, тогда $x$ это максимальное из значений $b1, b2, . . . , bn$."
      ]
    },
    {
      "cell_type": "code",
      "execution_count": null,
      "metadata": {
        "id": "MLPckfEGxico"
      },
      "outputs": [
        {
          "name": "stdout",
          "output_type": "stream",
          "text": [
            "Sum [(1, 25), (2, 45), (3, 30)]\n",
            "Max: [(1, 15), (2, 25), (3, 30)]\n"
          ]
        }
      ],
      "source": [
        "from collections import defaultdict\n",
        "from typing import Callable\n",
        "\n",
        "# формируем ключ\n",
        "def MAP(a, b, c):\n",
        "    yield (a, b)\n",
        "\n",
        "# возвращаем пару (ключ, агрегированное значение)\n",
        "def REDUCE(a, values, aggregation_function: Callable[[List[int]], int]):\n",
        "    yield (a, aggregation_function(values))\n",
        "\n",
        "def RECORDREADER():\n",
        "    return [(1, 10, \"x\"), (2, 20, \"y\"), (1, 15, \"z\"), (2, 25, \"w\"), (3, 30, \"v\")]\n",
        "\n",
        "# группировка по ключу\n",
        "def shuffle(mapped_data: List[Tuple[int, int]]) -> dict:\n",
        "    grouped_data = defaultdict(list)\n",
        "    for key, value in mapped_data:\n",
        "        grouped_data[key].append(value)\n",
        "    return grouped_data\n",
        "\n",
        "def MapReduce(recordreader, map_func, reduce_func, aggregation_function):\n",
        "    records = recordreader()\n",
        "\n",
        "    # маппинг\n",
        "    mapped_data = []\n",
        "    for record in records:\n",
        "        # распаковка кортежей\n",
        "        mapped_data.extend(map_func(*record)) \n",
        "\n",
        "    grouped_data = shuffle(mapped_data)\n",
        "\n",
        "    reduced_data = []\n",
        "    for key, values in grouped_data.items():\n",
        "        reduced_data.extend(reduce_func(key, values, aggregation_function))\n",
        "\n",
        "    return reduced_data\n",
        "\n",
        "print(\"Sum\", MapReduce(RECORDREADER, MAP, REDUCE, sum))\n",
        "print(\"Max:\", MapReduce(RECORDREADER, MAP, REDUCE, max))"
      ]
    },
    {
      "cell_type": "markdown",
      "metadata": {
        "id": "IIrRgvG4RIS4"
      },
      "source": [
        "### Matrix-Vector multiplication\n",
        "\n",
        "Случай, когда вектор не помещается в памяти Map задачи\n"
      ]
    },
    {
      "cell_type": "code",
      "execution_count": null,
      "metadata": {
        "id": "KQhDbiL3zS9r"
      },
      "outputs": [
        {
          "name": "stdout",
          "output_type": "stream",
          "text": [
            "Matrix-Vector Multiplication Result: defaultdict(<class 'float'>, {0: 1.9, 1: 4.3})\n"
          ]
        }
      ],
      "source": [
        "from typing import List, Tuple, Dict, NamedTuple\n",
        "from collections import defaultdict\n",
        "\n",
        "NUM_REDUCERS = 2\n",
        "CHUNK_SIZE = 2  \n",
        "\n",
        "\n",
        "def map_matrix(row: NamedTuple) -> Tuple[int, Tuple[str, NamedTuple]]:\n",
        "    return row.col % NUM_REDUCERS, ('M', row)\n",
        "\n",
        "\n",
        "def map_vector(vector_chunk: List[NamedTuple]) -> List[Tuple[int, Tuple[str, NamedTuple]]]:\n",
        "    return [(el.index % NUM_REDUCERS, ('V', el)) for el in vector_chunk]\n",
        "\n",
        "# умножение части матрицы на соответствующую часть вектора\n",
        "def reduce_partial(reducer_id: int, values: List[Tuple[str, NamedTuple]]) -> List[Tuple[int, float]]:\n",
        "    matrix_rows, vector_elements = [], []\n",
        "    for tag, record in values:\n",
        "        (matrix_rows if tag == 'M' else vector_elements).append(record)\n",
        "\n",
        "    return [(row.row, row.value * el.value) for row in matrix_rows for el in vector_elements if row.col == el.index]\n",
        "\n",
        "# группировка по редукторам\n",
        "def shuffle(mapped_data: List[Tuple[int, Tuple[str, NamedTuple]]]) -> Dict[int, List[Tuple[str, NamedTuple]]]:\n",
        "    grouped = defaultdict(list)\n",
        "    for reducer_id, pair in mapped_data:\n",
        "        grouped[reducer_id].append(pair)\n",
        "    return grouped\n",
        "\n",
        "# агрегация - сложение частичных произведений\n",
        "def aggregate(partial_results: List[Tuple[int, float]]) -> Dict[int, float]:\n",
        "    result = defaultdict(float)\n",
        "    for row, value in partial_results:\n",
        "        result[row] += value\n",
        "    return result\n",
        "\n",
        "\n",
        "def read_matrix(matrix: List[NamedTuple]) -> List[Tuple[str, NamedTuple]]:\n",
        "    return [('M', row) for row in matrix]\n",
        "\n",
        "# разбиение вектора на чанки\n",
        "def read_vector(vector: List[NamedTuple]) -> List[List[NamedTuple]]:\n",
        "    return [vector[i:i + CHUNK_SIZE] for i in range(0, len(vector), CHUNK_SIZE)]\n",
        "\n",
        "\n",
        "def map_reduce(matrix, vector):\n",
        "    mapped_matrix = [map_matrix(row) for _, row in read_matrix(matrix)]\n",
        "    mapped_vector = [pair for chunk in read_vector(vector) for pair in map_vector(chunk)]\n",
        "    grouped = shuffle(mapped_matrix + mapped_vector)\n",
        "    partial_results = [res for rid, vals in grouped.items() for res in reduce_partial(rid, vals)]\n",
        "    return aggregate(partial_results)\n",
        "\n",
        "from collections import namedtuple\n",
        "Row = namedtuple('Row', ['row', 'col', 'value'])\n",
        "VectorElement = namedtuple('VectorElement', ['index', 'value'])\n",
        "\n",
        "matrix = [Row(0, 0, 1.0), \n",
        "          Row(0, 1, 2.0), \n",
        "          Row(1, 0, 3.0), \n",
        "          Row(1, 1, 4.0)]\n",
        "vector = [VectorElement(0, 0.5), VectorElement(1, 0.7)]\n",
        "\n",
        "result = map_reduce(matrix, vector)\n",
        "print(\"Matrix-Vector Multiplication Result:\", result)"
      ]
    },
    {
      "cell_type": "markdown",
      "metadata": {
        "id": "GIo2t7nNxvA9"
      },
      "source": [
        "## Matrix multiplication (Перемножение матриц)\n",
        "\n",
        "Если у нас есть матрица $M$ с элементами $m_{ij}$ в строке $i$ и столбце $j$, и матрица $N$ с элементами $n_{jk}$ в строке $j$ и столбце $k$, тогда их произведение $P = MN$ есть матрица $P$ с элементами $p_{ik}$ в строке $i$ и столбце $k$, где\n",
        "\n",
        "$$p_{ik} =\\sum_{j} m_{ij}n_{jk}$$\n",
        "\n",
        "Необходимым требованием является одинаковое количество столбцов в $M$ и строк в $N$, чтобы операция суммирования по  $j$ была осмысленной. Мы можем размышлять о матрице, как об отношении с тремя атрибутами: номер строки, номер столбца, само значение. Таким образом матрица $M$ предстваляется как отношение $ M(I, J, V )$, с кортежами $(i, j, m_{ij})$, и, аналогично, матрица $N$ представляется как отношение $N(J, K, W)$, с кортежами $(j, k, n_{jk})$. Так как большие матрицы как правило разреженные (большинство значений равно 0), и так как мы можем нулевыми значениями пренебречь (не хранить), такое реляционное представление достаточно эффективно для больших матриц. Однако, возможно, что координаты $i$, $j$, и $k$ неявно закодированы в смещение позиции элемента относительно начала файла, вместо явного хранения. Тогда, функция Map (или Reader) должна быть разработана таким образом, чтобы реконструировать компоненты $I$, $J$, и $K$ кортежей из смещения.\n",
        "\n",
        "Произведение $MN$ это фактически join, за которым следуют группировка по ключу и аггрегация. Таким образом join отношений $M(I, J, V )$ и $N(J, K, W)$, имеющих общим только атрибут $J$, создаст кортежи $(i, j, k, v, w)$ из каждого кортежа $(i, j, v) \\in M$ и кортежа $(j, k, w) \\in N$. Такой 5 компонентный кортеж представляет пару элементов матрицы $(m_{ij} , n_{jk})$. Что нам хотелось бы получить на самом деле, это произведение этих элементов, то есть, 4 компонентный кортеж$(i, j, k, v \\times w)$, так как он представляет произведение $m_{ij}n_{jk}$. Мы представляем отношение как результат одной MapReduce операции, в которой мы можем произвести группировку и аггрегацию, с $I$ и $K$  атрибутами, по которым идёт группировка, и суммой  $V \\times W$. \n",
        "\n",
        "\n",
        "\n"
      ]
    },
    {
      "cell_type": "code",
      "execution_count": null,
      "metadata": {
        "id": "1MBkGaLAYVCt"
      },
      "outputs": [],
      "source": [
        "# MapReduce model\n",
        "def flatten(nested_iterable):\n",
        "  for iterable in nested_iterable:\n",
        "    for element in iterable:\n",
        "      yield element\n",
        "\n",
        "def groupbykey(iterable):\n",
        "  t = {}\n",
        "  for (k2, v2) in iterable:\n",
        "    t[k2] = t.get(k2, []) + [v2]\n",
        "  return t.items()\n",
        "\n",
        "def MapReduce(RECORDREADER, MAP, REDUCE):\n",
        "  return flatten(map(lambda x: REDUCE(*x), groupbykey(flatten(map(lambda x: MAP(*x), RECORDREADER())))))"
      ]
    },
    {
      "cell_type": "markdown",
      "metadata": {
        "id": "sMspsOT0ZB35"
      },
      "source": [
        "Реализуйте перемножение матриц с использованием модельного кода MapReduce для одной машины в случае, когда одна матрица хранится в памяти, а другая генерируется RECORDREADER-ом."
      ]
    },
    {
      "cell_type": "code",
      "execution_count": null,
      "metadata": {
        "id": "psP1XekbsEjS"
      },
      "outputs": [
        {
          "data": {
            "text/plain": [
              "[((0, 0), 0.6062066322026797),\n",
              " ((1, 0), 0.8574274796274817),\n",
              " ((0, 1), 0.3932183494304284),\n",
              " ((1, 1), 0.6834995432374926),\n",
              " ((0, 2), 1.183729889663273),\n",
              " ((1, 2), 1.304908149807049),\n",
              " ((0, 3), 0.6467314965464553),\n",
              " ((1, 3), 1.0404498059320997),\n",
              " ((0, 4), 0.7227820216185916),\n",
              " ((1, 4), 1.1507648762525449),\n",
              " ((0, 5), 0.6195558603587429),\n",
              " ((1, 5), 0.3717656599217903),\n",
              " ((0, 6), 0.7899795488954163),\n",
              " ((1, 6), 0.4805103351020079),\n",
              " ((0, 7), 1.1241189038276744),\n",
              " ((1, 7), 1.3690169656896667),\n",
              " ((0, 8), 0.4086825347675569),\n",
              " ((1, 8), 0.5394500272377879),\n",
              " ((0, 9), 0.6749217332497334),\n",
              " ((1, 9), 0.3444602164184011),\n",
              " ((0, 10), 0.5864503223526217),\n",
              " ((1, 10), 0.855365860599938),\n",
              " ((0, 11), 0.9195994885376371),\n",
              " ((1, 11), 1.3607261945615867),\n",
              " ((0, 12), 1.0472027218748907),\n",
              " ((1, 12), 0.8769550777935331),\n",
              " ((0, 13), 0.9250401060237916),\n",
              " ((1, 13), 0.9949690677288349),\n",
              " ((0, 14), 0.7318600877943603),\n",
              " ((1, 14), 0.27633441626181654),\n",
              " ((0, 15), 0.9120588137102027),\n",
              " ((1, 15), 0.6902477432493741),\n",
              " ((0, 16), 1.1235640455057665),\n",
              " ((1, 16), 1.303700912212205),\n",
              " ((0, 17), 0.208482051802596),\n",
              " ((1, 17), 0.4688704593206009),\n",
              " ((0, 18), 0.6731899321879764),\n",
              " ((1, 18), 0.9117367283344474),\n",
              " ((0, 19), 0.8312194183225025),\n",
              " ((1, 19), 1.27155445108139),\n",
              " ((0, 20), 0.7479866111963612),\n",
              " ((1, 20), 1.2968415354395404),\n",
              " ((0, 21), 1.2497747943324296),\n",
              " ((1, 21), 1.0966723930279412),\n",
              " ((0, 22), 0.7847578617675113),\n",
              " ((1, 22), 0.8906060859883702),\n",
              " ((0, 23), 0.9933969283370685),\n",
              " ((1, 23), 0.9494266336406119),\n",
              " ((0, 24), 0.7034926516727733),\n",
              " ((1, 24), 0.5300588533749789),\n",
              " ((0, 25), 1.1764244141605582),\n",
              " ((1, 25), 1.1219242111015886),\n",
              " ((0, 26), 0.9187141308909901),\n",
              " ((1, 26), 0.8567496005474001),\n",
              " ((0, 27), 1.0087341106267396),\n",
              " ((1, 27), 0.8877291241354915),\n",
              " ((0, 28), 1.051429044517747),\n",
              " ((1, 28), 1.4839790980491183),\n",
              " ((0, 29), 0.5509025718494973),\n",
              " ((1, 29), 0.9979883656980959),\n",
              " ((0, 30), 0.9439713153349638),\n",
              " ((1, 30), 0.9894675569391459),\n",
              " ((0, 31), 0.7659075537170063),\n",
              " ((1, 31), 1.0106933021623588),\n",
              " ((0, 32), 0.45084181803654755),\n",
              " ((1, 32), 0.6930486823430801),\n",
              " ((0, 33), 0.9672356161523985),\n",
              " ((1, 33), 0.8299501036213108),\n",
              " ((0, 34), 0.6701037940271904),\n",
              " ((1, 34), 0.8954435731063848),\n",
              " ((0, 35), 1.3510641588646792),\n",
              " ((1, 35), 1.284790149167557),\n",
              " ((0, 36), 1.0210752325662353),\n",
              " ((1, 36), 0.8912409465694234),\n",
              " ((0, 37), 1.0101654912266387),\n",
              " ((1, 37), 0.8857128645489352),\n",
              " ((0, 38), 0.37257072625042886),\n",
              " ((1, 38), 0.3140361903149066),\n",
              " ((0, 39), 0.46367071940465826),\n",
              " ((1, 39), 1.1011723301421277)]"
            ]
          },
          "execution_count": 41,
          "metadata": {},
          "output_type": "execute_result"
        }
      ],
      "source": [
        "import numpy as np\n",
        "I = 2\n",
        "J = 3\n",
        "K = 4*10\n",
        "small_mat = np.random.rand(I,J) # it is legal to access this from RECORDREADER, MAP, REDUCE\n",
        "big_mat = np.random.rand(J,K)\n",
        "\n",
        "def RECORDREADER():\n",
        "  for j in range(big_mat.shape[0]):\n",
        "    for k in range(big_mat.shape[1]):\n",
        "      yield ((j,k), big_mat[j,k])\n",
        "      \n",
        "def MAP(k1, v1):\n",
        "  (j, k) = k1\n",
        "  w = v1\n",
        "  for i in range(small_mat.shape[0]):  # Пробегаем все строки маленькой матрицы\n",
        "        v = small_mat[i, j]  # m_{ij}\n",
        "        yield ((i, k), v * w)  # (i,k) - ключ, произведение - значение\n",
        "  \n",
        "def REDUCE(key, values):\n",
        "  (i, k) = key\n",
        "  yield ((i, k), sum(values))\n",
        "\n",
        "result = list(MapReduce(RECORDREADER, MAP, REDUCE))\n",
        "result"
      ]
    },
    {
      "cell_type": "markdown",
      "metadata": {
        "id": "rnt306LHhHrm"
      },
      "source": [
        "Проверьте своё решение"
      ]
    },
    {
      "cell_type": "code",
      "execution_count": null,
      "metadata": {
        "colab": {
          "base_uri": "https://localhost:8080/",
          "height": 34
        },
        "id": "Ewy_ZNYqW5a2",
        "outputId": "9ce264f2-9412-44e2-9b0a-cc780573ab3a"
      },
      "outputs": [
        {
          "data": {
            "text/plain": [
              "True"
            ]
          },
          "execution_count": 42,
          "metadata": {},
          "output_type": "execute_result"
        }
      ],
      "source": [
        "# CHECK THE SOLUTION\n",
        "reference_solution = np.matmul(small_mat, big_mat) \n",
        "solution = MapReduce(RECORDREADER, MAP, REDUCE)\n",
        "\n",
        "def asmatrix(reduce_output):\n",
        "  reduce_output = list(reduce_output)\n",
        "  I = max(i for ((i,k), vw) in reduce_output)+1\n",
        "  K = max(k for ((i,k), vw) in reduce_output)+1\n",
        "  mat = np.empty(shape=(I,K))\n",
        "  for ((i,k), vw) in reduce_output:\n",
        "    mat[i,k] = vw\n",
        "  return mat\n",
        "\n",
        "np.allclose(reference_solution, asmatrix(solution)) # should return true"
      ]
    },
    {
      "cell_type": "code",
      "execution_count": null,
      "metadata": {
        "colab": {
          "base_uri": "https://localhost:8080/",
          "height": 34
        },
        "id": "TK7v4CEcfxqf",
        "outputId": "2c865d0a-4065-4e6b-c83f-5508ed5eb4fa"
      },
      "outputs": [
        {
          "data": {
            "text/plain": [
              "1"
            ]
          },
          "execution_count": 43,
          "metadata": {},
          "output_type": "execute_result"
        }
      ],
      "source": [
        "reduce_output = list(MapReduce(RECORDREADER, MAP, REDUCE))\n",
        "max(i for ((i,k), vw) in reduce_output)"
      ]
    },
    {
      "cell_type": "markdown",
      "metadata": {
        "id": "i4yyg3kOZqJJ"
      },
      "source": [
        "Реализуйте перемножение матриц  с использованием модельного кода MapReduce для одной машины в случае, когда обе матрицы генерируются в RECORDREADER. Например, сначала одна, а потом другая."
      ]
    },
    {
      "cell_type": "code",
      "execution_count": null,
      "metadata": {
        "id": "3B7rIAJCaHZq"
      },
      "outputs": [
        {
          "data": {
            "text/plain": [
              "True"
            ]
          },
          "execution_count": 53,
          "metadata": {},
          "output_type": "execute_result"
        }
      ],
      "source": [
        "I = 2\n",
        "J = 3\n",
        "K = 40\n",
        "\n",
        "small_mat = np.random.rand(I, J)  # первая матрица M размером (I x J)\n",
        "big_mat = np.random.rand(J, K)  # вторая матрица N размером (J x K)\n",
        "\n",
        "# эталонное решение\n",
        "reference_solution = np.matmul(small_mat, big_mat)\n",
        "\n",
        "\n",
        "def RECORDREADER():\n",
        "    # чтение первой матрицы\n",
        "    for i in range(small_mat.shape[0]):\n",
        "        for j in range(small_mat.shape[1]):\n",
        "            yield ((0, i, j), small_mat[i, j])\n",
        "\n",
        "    # чтение второй матрицы \n",
        "    for j in range(big_mat.shape[0]):\n",
        "        for k in range(big_mat.shape[1]):\n",
        "            yield ((1, j, k), big_mat[j, k])\n",
        "\n",
        "# соединение матриц по индексу j\n",
        "def MAP_JOIN(k1, v1):\n",
        "    mat_type, i_or_j, j_or_k = k1 \n",
        "    value = v1\n",
        "\n",
        "    if mat_type == 0:  \n",
        "        # если выбран элемент первой матрицы\n",
        "        yield (j_or_k, (0, i_or_j, value)) \n",
        "    else:\n",
        "        # иначе\n",
        "        yield (i_or_j, (1, j_or_k, value))\n",
        "\n",
        "# соединения матриц по j\n",
        "def REDUCE_JOIN(key, values):\n",
        "    first_matrix = [v for v in values if v[0] == 0] \n",
        "    second_matrix = [v for v in values if v[0] == 1]\n",
        "    for m in first_matrix:\n",
        "        for n in second_matrix:\n",
        "            yield ((m[1], n[1]), m[2] * n[2])\n",
        "\n",
        "\n",
        "def MAP_MUL(k1, v1):\n",
        "    yield (k1, v1)\n",
        "\n",
        "\n",
        "def REDUCE_MUL(key, values):\n",
        "    yield (key, sum(values))\n",
        "\n",
        "# объединение значений \n",
        "joined = MapReduce(RECORDREADER, MAP_JOIN, REDUCE_JOIN)\n",
        "\n",
        "solution = MapReduce(lambda: joined, MAP_MUL, REDUCE_MUL)\n",
        "\n",
        "is_true = np.allclose(reference_solution, asmatrix(solution))\n",
        "is_true\n"
      ]
    },
    {
      "cell_type": "markdown",
      "metadata": {
        "id": "mXyzQi1DaIwo"
      },
      "source": [
        "Реализуйте перемножение матриц с использованием модельного кода MapReduce Distributed, когда каждая матрица генерируется в своём RECORDREADER. "
      ]
    },
    {
      "cell_type": "code",
      "execution_count": null,
      "metadata": {
        "id": "TDM_s78Rb5eR"
      },
      "outputs": [
        {
          "name": "stdout",
          "output_type": "stream",
          "text": [
            "240 key-value pairs were sent over a network.\n"
          ]
        },
        {
          "data": {
            "text/plain": [
              "{(0, 1): 0.12634114780702735,\n",
              " (0, 2): 0.6231596035822661,\n",
              " (0, 4): 0.31992626992193046,\n",
              " (0, 5): 0.7167196452743758,\n",
              " (0, 8): 0.8645263667205226,\n",
              " (0, 9): 0.7079406790732525,\n",
              " (0, 11): 0.4417982013978739,\n",
              " (0, 12): 0.9132746092094527,\n",
              " (0, 15): 1.1099931936131264,\n",
              " (0, 16): 0.7121236542625545,\n",
              " (0, 18): 0.8135579635140162,\n",
              " (0, 19): 0.7074136322589276,\n",
              " (0, 22): 0.9973701871044655,\n",
              " (0, 23): 0.6231839325446358,\n",
              " (0, 25): 0.2611867756493786,\n",
              " (0, 26): 0.9543847101615036,\n",
              " (0, 29): 0.8091828807129231,\n",
              " (0, 32): 0.15585659657155868,\n",
              " (0, 33): 0.2750549892667597,\n",
              " (0, 36): 0.13479107093216589,\n",
              " (0, 39): 0.41064227503426964,\n",
              " (1, 0): 1.2305717857497247,\n",
              " (1, 1): 0.20210192217505918,\n",
              " (1, 3): 1.3782438691025052,\n",
              " (1, 4): 0.7046707690054199,\n",
              " (1, 7): 1.7546595031481922,\n",
              " (1, 10): 1.2053240214115748,\n",
              " (1, 11): 0.8526303644312438,\n",
              " (1, 14): 0.9649895755918299,\n",
              " (1, 17): 1.377927441342666,\n",
              " (1, 18): 0.8457876768695144,\n",
              " (1, 21): 1.077911621832383,\n",
              " (1, 24): 1.1461296544850124,\n",
              " (1, 25): 0.6941562597570788,\n",
              " (1, 27): 0.979537365313057,\n",
              " (1, 28): 1.4472240298324452,\n",
              " (1, 31): 0.6091687860615443,\n",
              " (1, 32): 0.42037259206957833,\n",
              " (1, 34): 0.5372346785441505,\n",
              " (1, 35): 0.7846096260520881,\n",
              " (1, 38): 1.8176352831881455,\n",
              " (1, 39): 0.7951000457081051,\n",
              " (0, 0): 0.7629766901588448,\n",
              " (0, 3): 1.0913191447937707,\n",
              " (0, 6): 1.0444223795296843,\n",
              " (0, 7): 1.0441464581044155,\n",
              " (0, 10): 0.6214822262039327,\n",
              " (0, 13): 0.8595505876825,\n",
              " (0, 14): 0.8576750484838346,\n",
              " (0, 17): 0.7563138586910788,\n",
              " (0, 20): 0.8064102988046864,\n",
              " (0, 21): 0.8541745039989029,\n",
              " (0, 24): 0.6065740417029813,\n",
              " (0, 27): 0.32988915430756305,\n",
              " (0, 28): 0.734889374057798,\n",
              " (0, 30): 0.4100514379492798,\n",
              " (0, 31): 0.5931474941532675,\n",
              " (0, 34): 0.7207145132891873,\n",
              " (0, 35): 0.45912213164708365,\n",
              " (0, 37): 0.5114722994881173,\n",
              " (0, 38): 1.0696842705541978,\n",
              " (1, 2): 0.7329981878557026,\n",
              " (1, 5): 1.187313325492317,\n",
              " (1, 6): 1.4456274718943032,\n",
              " (1, 8): 1.3134803851855181,\n",
              " (1, 9): 0.7250142095211918,\n",
              " (1, 12): 1.2117963321282126,\n",
              " (1, 13): 1.1206619268652167,\n",
              " (1, 15): 1.5230886179834922,\n",
              " (1, 16): 1.1164408250599867,\n",
              " (1, 19): 0.9318483010096529,\n",
              " (1, 20): 1.19173359157984,\n",
              " (1, 22): 1.2798950969925984,\n",
              " (1, 23): 1.3049162825570717,\n",
              " (1, 26): 1.8711763631638525,\n",
              " (1, 29): 1.5049615379521488,\n",
              " (1, 30): 0.6886335963495187,\n",
              " (1, 33): 0.742939706639788,\n",
              " (1, 36): 0.16336246731918713,\n",
              " (1, 37): 0.5509307123432722}"
            ]
          },
          "execution_count": 46,
          "metadata": {},
          "output_type": "execute_result"
        }
      ],
      "source": [
        "import numpy as np\n",
        "\n",
        "NUM_MAPPERS = 2\n",
        "reducers = 2\n",
        "ROWS_A = 2\n",
        "COLS_A = 3\n",
        "COLS_B = 4 * 10\n",
        "\n",
        "A = np.random.rand(ROWS_A, COLS_A)\n",
        "B = np.random.rand(COLS_A, COLS_B)\n",
        "\n",
        "# создание частей матриц\n",
        "def generate_chunks():\n",
        "    chunk_size = int(np.ceil(ROWS_A / NUM_MAPPERS))\n",
        "    for i_start in range(0, ROWS_A, chunk_size):\n",
        "        yield process_chunk(range(i_start, min(i_start + chunk_size, ROWS_A)))\n",
        "\n",
        "# генерация пар (координаты, значение) из двух матриц\n",
        "def process_chunk(rows):\n",
        "    for i in rows:\n",
        "        for j in range(COLS_A):\n",
        "            for k in range(COLS_B):\n",
        "                yield ((i, j), A[i, j]), ((j, k), B[j, k])\n",
        "\n",
        "# умножение элементов и группировка по (i, k) \n",
        "def map_function(pair_A, pair_B):\n",
        "    (i, j), val_A = pair_A\n",
        "    (j, k), val_B = pair_B\n",
        "    yield (i, k), val_A * val_B\n",
        "\n",
        "# суммирование элементов с одинаковыми индексами\n",
        "def reduce_function(index, values):\n",
        "    yield index, sum(values)\n",
        "\n",
        "\n",
        "intermediate_results = MapReduceDistributed(generate_chunks, map_function, reduce_function)\n",
        "\n",
        "final_result = {}\n",
        "for partition_id, partition in intermediate_results:\n",
        "    for index, value in partition:\n",
        "        final_result[index] = final_result.get(index, 0) + value\n",
        "\n",
        "\n",
        "final_result"
      ]
    },
    {
      "cell_type": "markdown",
      "metadata": {
        "id": "ZuSA2P9Db6UM"
      },
      "source": [
        "Обобщите предыдущее решение на случай, когда каждая матрица генерируется несколькими RECORDREADER-ами, и проверьте его работоспособность. Будет ли работать решение, если RECORDREADER-ы будут генерировать случайное подмножество элементов матрицы?"
      ]
    },
    {
      "cell_type": "code",
      "execution_count": null,
      "metadata": {
        "id": "ehN0FqRDcwU5"
      },
      "outputs": [
        {
          "name": "stdout",
          "output_type": "stream",
          "text": [
            "Первая строчка матрицы: [0.52098675 0.41244175 0.55962567 0.85317482 0.704845   0.23449183\n",
            " 0.0559855  0.24217911 0.48370514 0.15398995 0.40956652 0.53912993\n",
            " 0.29999611 0.67488272 0.1566643  0.15797923 0.61228663 0.41509127\n",
            " 0.58102737 0.44826245 0.29319378 0.72489289 0.71361961 0.63021859\n",
            " 0.24825324 0.57540286 0.34322758 0.12174227 0.79360175 0.13302751\n",
            " 0.79247275 0.43636453 0.17382883 0.50587613 0.74145847 0.64201306\n",
            " 0.68361792 0.56444288 0.63391778 0.72089408]\n",
            "Последняя строчка матрицы: [0.566163   0.32513929 0.37799608 0.92091421 0.96528208 0.46525232\n",
            " 0.23877331 0.27681318 0.20608172 0.76908971 0.19740888 0.53374367\n",
            " 0.2956166  0.55009273 0.48299632 0.66360622 0.38342581 0.28457675\n",
            " 0.39926734 0.75208171 0.67543574 0.6528472  0.68778615 0.64742617\n",
            " 0.29073166 0.81055989 0.45789367 0.34977352 0.6097851  0.23258597\n",
            " 0.47120874 0.61299593 0.25320231 0.60980491 0.52778887 0.57132444\n",
            " 0.45647229 0.39308661 0.68221368 0.49291472]\n"
          ]
        },
        {
          "data": {
            "text/plain": [
              "True"
            ]
          },
          "execution_count": 51,
          "metadata": {},
          "output_type": "execute_result"
        }
      ],
      "source": [
        "rows_a = 2\n",
        "cols_a = 3\n",
        "cols_b = 4 * 10\n",
        "\n",
        "matrix_a = np.random.rand(rows_a, cols_a)\n",
        "matrix_b = np.random.rand(cols_a, cols_b)\n",
        "\n",
        "# эталоннsq результат\n",
        "expected_result = np.matmul(matrix_a, matrix_b)\n",
        "\n",
        "# функция разворачивания итерируемых объектов в плоский объект\n",
        "def flatten_iterables(nested_iterable):\n",
        "    for iterable in nested_iterable:\n",
        "        for element in iterable:\n",
        "            yield element\n",
        "\n",
        "\n",
        "def group_elements_by_key(iterable):\n",
        "    grouped = {}\n",
        "    for (key, value) in iterable:\n",
        "        grouped[key] = grouped.get(key, []) + [value]\n",
        "    return grouped.items()\n",
        "\n",
        "\n",
        "def distributed_grouping(map_partitions, partition_func):\n",
        "    global num_reducers\n",
        "    partitions = [dict() for _ in range(num_reducers)]\n",
        "    for map_partition in map_partitions:\n",
        "        for (key, value) in map_partition:\n",
        "            partition = partitions[partition_func(key)]\n",
        "            partition[key] = partition.get(key, []) + [value]\n",
        "    return [(partition_id, sorted(partition.items(), key=lambda x: x[0])) for (partition_id, partition) in enumerate(partitions)]\n",
        "\n",
        "# Функция для определения разделителя по ключу\n",
        "def partition_function(obj):\n",
        "    global num_reducers\n",
        "    return hash(obj) % num_reducers\n",
        "\n",
        "\n",
        "def distributed_map_reduce(input_format, map_func, reduce_func, partition_func=partition_function, combiner=None):\n",
        "    map_partitions = map(lambda record_reader: flatten_iterables(map(lambda kv: map_func(*kv), record_reader)), input_format())\n",
        "\n",
        "    if combiner is not None:\n",
        "        map_partitions = map(lambda map_partition: flatten_iterables(map(lambda kv: combiner(*kv), group_elements_by_key(map_partition))), map_partitions)\n",
        "\n",
        "    reduce_partitions = distributed_grouping(map_partitions, partition_func)\n",
        "\n",
        "    reduce_outputs = map(lambda reduce_partition: (reduce_partition[0], flatten_iterables(map(lambda reduce_input_group: reduce_func(*reduce_input_group), reduce_partition[1]))), reduce_partitions)\n",
        "\n",
        "    return reduce_outputs\n",
        "\n",
        "# преобразование результата reduce в матрицу\n",
        "def convert_to_matrix(reduce_output):\n",
        "    reduce_output = list(reduce_output)\n",
        "    rows = max(i for ((i, k), value) in reduce_output) + 1\n",
        "    cols = max(k for ((i, k), value) in reduce_output) + 1\n",
        "    result_matrix = np.empty(shape=(rows, cols))\n",
        "    for ((i, k), value) in reduce_output:\n",
        "        result_matrix[i, k] = value\n",
        "    return result_matrix\n",
        "\n",
        "\n",
        "def input_data_format():\n",
        "    data_a = []\n",
        "\n",
        "    for i in range(matrix_a.shape[0]):\n",
        "        for j in range(matrix_a.shape[1]):\n",
        "            data_a.append(((0, i, j), matrix_a[i, j]))  # первая матрица\n",
        "\n",
        "    global num_maps\n",
        "    split_size = int(np.ceil(len(data_a) / num_maps))\n",
        "\n",
        "    for i in range(0, len(data_a), split_size):\n",
        "        yield data_a[i:i + split_size]\n",
        "\n",
        "    data_b = []\n",
        "\n",
        "    for j in range(matrix_b.shape[0]):\n",
        "        for k in range(matrix_b.shape[1]):\n",
        "            data_b.append(((1, j, k), matrix_b[j, k]))  # вторая матрица\n",
        "\n",
        "    split_size = int(np.ceil(len(data_b) / num_maps))\n",
        "\n",
        "    for i in range(0, len(data_b), split_size):\n",
        "        yield data_b[i:i + split_size]\n",
        "\n",
        "# MAP-функция для соединения матриц\n",
        "def map_join_func(key1, value1):\n",
        "    (matrix_id, i, j) = key1\n",
        "    weight = value1\n",
        "\n",
        "    if matrix_id == 0:\n",
        "        yield (j, (matrix_id, i, weight))\n",
        "    else:\n",
        "        yield (i, (matrix_id, j, weight))\n",
        "\n",
        "# REDUCE функция для соединения матриц\n",
        "def reduce_join_func(key, values):\n",
        "    from_first_matrix = [v for v in values if v[0] == 0]\n",
        "    from_second_matrix = [v for v in values if v[0] == 1]\n",
        "\n",
        "    for f in from_first_matrix:\n",
        "        for s in from_second_matrix:\n",
        "            yield ((f[1], s[1]), f[2] * s[2])\n",
        "\n",
        "\n",
        "def generate_joined_data():\n",
        "    for j in joined_data:\n",
        "        yield j[1]\n",
        "\n",
        "# MAP-функция для передачи значений\n",
        "def map_multiplication(key1, value1):\n",
        "    yield (key1, value1)\n",
        "\n",
        "# REDUCE-функция для суммирования значений\n",
        "def reduce_multiplication(key, values):\n",
        "    total_value = 0\n",
        "\n",
        "    for v in values:\n",
        "        total_value += v\n",
        "    yield (key, total_value)\n",
        "\n",
        "num_maps = 3\n",
        "num_reducers = 2\n",
        "\n",
        "# соединение матриц\n",
        "partitioned_result = distributed_map_reduce(input_data_format, map_join_func, reduce_join_func, combiner=None)\n",
        "joined_data = [(partition_id, list(partition)) for (partition_id, partition) in partitioned_result]\n",
        "\n",
        "# умножение значений\n",
        "multiplication_output = distributed_map_reduce(generate_joined_data, map_multiplication, reduce_multiplication, combiner=None)\n",
        "pre_result = [(partition_id, list(partition)) for (partition_id, partition) in multiplication_output]\n",
        "\n",
        "# формирование окончательного результата\n",
        "final_solution = []\n",
        "\n",
        "for p in pre_result:\n",
        "    for v in p[1]:\n",
        "        final_solution.append(v)\n",
        "\n",
        "# проверка на соответствие с эталоном\n",
        "is_close = np.allclose(expected_result, convert_to_matrix(final_solution))\n",
        "\n",
        "# вывод частей первой и последней строк матрицы и сравнение с эталоном\n",
        "result_matrix = convert_to_matrix(final_solution)\n",
        "print(\"Первая строчка матрицы:\", result_matrix[0])\n",
        "print(\"Последняя строчка матрицы:\", result_matrix[-1])\n",
        "is_close"
      ]
    }
  ],
  "metadata": {
    "colab": {
      "provenance": []
    },
    "kernelspec": {
      "display_name": "Python 3",
      "name": "python3"
    },
    "language_info": {
      "codemirror_mode": {
        "name": "ipython",
        "version": 3
      },
      "file_extension": ".py",
      "mimetype": "text/x-python",
      "name": "python",
      "nbconvert_exporter": "python",
      "pygments_lexer": "ipython3",
      "version": "3.10.7"
    }
  },
  "nbformat": 4,
  "nbformat_minor": 0
}
