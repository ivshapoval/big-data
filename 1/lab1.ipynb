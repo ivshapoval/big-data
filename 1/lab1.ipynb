{
  "cells": [
    {
      "cell_type": "markdown",
      "metadata": {
        "id": "Huc4g6PUaN6Q"
      },
      "source": [
        "Импорт библиотек, подготовка к работе  данными"
      ]
    },
    {
      "cell_type": "code",
      "execution_count": null,
      "metadata": {
        "id": "xBMdL5sPaM6z"
      },
      "outputs": [],
      "source": [
        "from pyspark.sql import SparkSession\n",
        "from pyspark.sql.functions import col, unix_timestamp, sum as spark_sum, countDistinct, max as spark_max, udf\n",
        "from pyspark.sql.types import DoubleType\n",
        "from pyspark.sql.functions import radians, cos, sin, sqrt, atan2\n",
        "from geopy.distance import geodesic\n"
      ]
    },
    {
      "cell_type": "markdown",
      "metadata": {},
      "source": [
        "Найти велосипед с максимальным временем пробега"
      ]
    },
    {
      "cell_type": "code",
      "execution_count": null,
      "metadata": {
        "colab": {
          "base_uri": "https://localhost:8080/"
        },
        "id": "iGtcdR8TaduK",
        "outputId": "b04c4446-8ef4-4ba8-fb79-30e76deb1b2d"
      },
      "outputs": [
        {
          "name": "stdout",
          "output_type": "stream",
          "text": [
            "+-------+-------------+\n",
            "|bike_id|total_minutes|\n",
            "+-------+-------------+\n",
            "|    378|     631684.0|\n",
            "+-------+-------------+\n",
            "\n"
          ]
        }
      ],
      "source": [
        "# функция для запуска сессии Spark\n",
        "spark = SparkSession.builder \\\n",
        "    .appName(\"lab1_bd\") \\\n",
        "    .getOrCreate()\n",
        "\n",
        "# чтение из файла trip.csv и создание DataFrame \n",
        "trip_df = spark.read.option(\"header\", \"true\").csv(\"trip.csv\")\n",
        "\n",
        "# добавление в DataFrame столбцов из trip.csv\n",
        "trips_with_time = trip_df.withColumn(\n",
        "    \"start_timestamp\", unix_timestamp(col(\"start_date\"), \"M/d/yyyy H:mm\")\n",
        ").withColumn(\n",
        "    \"end_timestamp\", unix_timestamp(col(\"end_date\"), \"M/d/yyyy H:mm\")\n",
        ").withColumn(\n",
        "    \"duration_minutes\", (col(\"end_timestamp\") - col(\"start_timestamp\")) / 60\n",
        ")\n",
        "\n",
        "# группировка данных по bike_id и вычисление общей длительности поездок\n",
        "bike_with_max_time = trips_with_time.groupBy(\"bike_id\") \\\n",
        "    .agg(\n",
        "        # суммируем в total_minutes duration_minutes каждого велосипеда\n",
        "        spark_sum(\"duration_minutes\").alias(\"total_minutes\")\n",
        "    ) \\\n",
        "    .orderBy(\n",
        "        # сортировка по total_minutes в порядке убывания\n",
        "        col(\"total_minutes\").desc()\n",
        "    # ограничение выборки одним элементом (с максимальным значением total_minutes)\n",
        "    ) \\\n",
        "    .limit(1)  \n",
        "\n",
        "bike_with_max_time.show()\n",
        "\n"
      ]
    },
    {
      "cell_type": "markdown",
      "metadata": {
        "id": "z2AS5nPjekzY"
      },
      "source": [
        "Найти наибольшее геодезическое расстояние между станциями"
      ]
    },
    {
      "cell_type": "code",
      "execution_count": null,
      "metadata": {
        "colab": {
          "base_uri": "https://localhost:8080/"
        },
        "id": "eEbABO6aeqcD",
        "outputId": "63550169-44c3-40a7-e857-feb996844819"
      },
      "outputs": [
        {
          "data": {
            "text/plain": [
              "69.92096757764355"
            ]
          },
          "execution_count": 54,
          "metadata": {},
          "output_type": "execute_result"
        }
      ],
      "source": [
        "# чтение из файла station.csv и создание DataFrame \n",
        "station_df = spark.read.option(\"header\", \"true\").csv(\"station.csv\")\n",
        "\n",
        "# приведение столбцов lat и long к double\n",
        "stations_df = station_df.withColumn(\"lat\", col(\"lat\").cast(\"double\")) \\\n",
        "                         .withColumn(\"long\", col(\"long\").cast(\"double\"))\n",
        "\n",
        "# извлечение столбцов id, lat, long\n",
        "stations_list = stations_df.select(\"id\", \"lat\", \"long\").collect()\n",
        "\n",
        "max_distance = 0\n",
        "\n",
        "for i in range(len(stations_list)):\n",
        "    for j in range(i + 1, len(stations_list)):\n",
        "        # вычисление расстояния между парами станций\n",
        "        station1, station2 = stations_list[i], stations_list[j]\n",
        "        distance = geodesic((station1[\"lat\"], station1[\"long\"]), (station2[\"lat\"], station2[\"long\"])).km\n",
        "        max_distance = max(max_distance, distance)\n",
        "\n",
        "max_distance\n"
      ]
    },
    {
      "cell_type": "markdown",
      "metadata": {
        "id": "_85TKmbIgZDf"
      },
      "source": [
        "Найти путь велосипеда с максимальным временем пробега через станции"
      ]
    },
    {
      "cell_type": "code",
      "execution_count": null,
      "metadata": {
        "colab": {
          "base_uri": "https://localhost:8080/"
        },
        "id": "iSxinrsQgajJ",
        "outputId": "28423a30-d5c9-4de5-a380-01ada3d98eb9"
      },
      "outputs": [
        {
          "name": "stdout",
          "output_type": "stream",
          "text": [
            "+---------------+--------------------+--------------------+\n",
            "|     start_date|  start_station_name|    end_station_name|\n",
            "+---------------+--------------------+--------------------+\n",
            "|1/10/2014 13:15|Commercial at Mon...|       Market at 4th|\n",
            "|1/10/2014 18:40|       Market at 4th|      Market at 10th|\n",
            "|1/10/2014 22:24|       Market at 4th|Harry Bridges Pla...|\n",
            "|1/10/2014 22:39|Harry Bridges Pla...|Embarcadero at Sa...|\n",
            "|1/10/2014 23:13|Embarcadero at Sa...|       Market at 4th|\n",
            "| 1/10/2014 7:38|San Francisco Cal...|South Van Ness at...|\n",
            "| 1/10/2014 9:44|South Van Ness at...|Mechanics Plaza (...|\n",
            "|1/11/2014 13:17|       Market at 4th|      Market at 10th|\n",
            "| 1/11/2015 9:47|Temporary Transba...|       Market at 4th|\n",
            "| 1/11/2015 9:47|Temporary Transba...|       Market at 4th|\n",
            "|1/12/2014 17:04|      Market at 10th|       Market at 4th|\n",
            "|1/12/2015 13:37|       2nd at Folsom|   2nd at South Park|\n",
            "|1/12/2015 13:37|       2nd at Folsom|   2nd at South Park|\n",
            "|1/12/2015 13:59|   2nd at South Park|       Market at 4th|\n",
            "|1/12/2015 13:59|   2nd at South Park|       Market at 4th|\n",
            "|1/12/2015 16:35|       Market at 4th|San Francisco Cal...|\n",
            "|1/12/2015 16:35|       Market at 4th|San Francisco Cal...|\n",
            "|1/12/2015 18:10|      Market at 10th|   Steuart at Market|\n",
            "|1/12/2015 18:10|      Market at 10th|   Steuart at Market|\n",
            "|1/13/2014 15:46|     Townsend at 7th|Civic Center BART...|\n",
            "+---------------+--------------------+--------------------+\n",
            "only showing top 20 rows\n",
            "\n"
          ]
        }
      ],
      "source": [
        "# получение id велосипеда с наибольшим временем\n",
        "bike_with_max_time_id = bike_with_max_time.collect()[0][\"bike_id\"]\n",
        "\n",
        "# сортировка поездок велосипеда с наибольшим временем по start_date\n",
        "bike_trips = trips_with_time.filter(col(\"bike_id\") == bike_with_max_time_id) \\\n",
        "    .select(\"start_date\", \"start_station_name\", \"end_station_name\") \\\n",
        "    .orderBy(\"start_date\")\n",
        "\n",
        "bike_trips.show()"
      ]
    },
    {
      "cell_type": "markdown",
      "metadata": {
        "id": "vBH_uhYxhgrX"
      },
      "source": [
        "Найти количество велосипедов в системе"
      ]
    },
    {
      "cell_type": "code",
      "execution_count": null,
      "metadata": {
        "colab": {
          "base_uri": "https://localhost:8080/"
        },
        "id": "pwTlzrGbhh-e",
        "outputId": "cd3a94b5-a15b-44d8-ce13-ce17d2df40a6"
      },
      "outputs": [
        {
          "data": {
            "text/plain": [
              "730"
            ]
          },
          "execution_count": 64,
          "metadata": {},
          "output_type": "execute_result"
        }
      ],
      "source": [
        "# подсчет уникальных id\n",
        "distinct_bike_count = trip_df.select(\"bike_id\").distinct().count()\n",
        "\n",
        "distinct_bike_count"
      ]
    },
    {
      "cell_type": "markdown",
      "metadata": {
        "id": "BaiE-BWSiEPv"
      },
      "source": [
        "Найти пользователей потративших на поездки более 3 часов"
      ]
    },
    {
      "cell_type": "code",
      "execution_count": null,
      "metadata": {
        "colab": {
          "base_uri": "https://localhost:8080/"
        },
        "id": "Pc5AFMBriUwU",
        "outputId": "40121f26-e51c-4240-c9e8-2cc9d88fc634"
      },
      "outputs": [
        {
          "name": "stdout",
          "output_type": "stream",
          "text": [
            "+--------+-------------+\n",
            "|zip_code|total_minutes|\n",
            "+--------+-------------+\n",
            "|   94102|     549054.0|\n",
            "|   95134|      22851.0|\n",
            "|   84606|       2946.0|\n",
            "|   80305|       5612.0|\n",
            "|   28117|        236.0|\n",
            "|   95519|        855.0|\n",
            "|   91910|       1343.0|\n",
            "|   60070|        483.0|\n",
            "|   43085|        324.0|\n",
            "|   77339|        349.0|\n",
            "|   48063|        249.0|\n",
            "|   85022|        418.0|\n",
            "|   90022|        218.0|\n",
            "|    1090|        680.0|\n",
            "|   75602|        202.0|\n",
            "|    2136|        532.0|\n",
            "|   11722|        810.0|\n",
            "|   11563|        676.0|\n",
            "|   95138|       3891.0|\n",
            "|   94610|     107376.0|\n",
            "+--------+-------------+\n",
            "only showing top 20 rows\n",
            "\n"
          ]
        }
      ],
      "source": [
        "# группировка пользователей по атрибуту zip_code\n",
        "users = trips_with_time.groupBy(\"zip_code\")\n",
        "\n",
        "# суммарные траты на поездки пользователей\n",
        "user_time = users.agg(spark_sum(\"duration_minutes\").alias(\"total_minutes\"))\n",
        "\n",
        "# выборка пользователей, у которых набралось больше 180 минут\n",
        "users_over_3h = user_time.filter(col(\"total_minutes\") > 180).show()"
      ]
    }
  ],
  "metadata": {
    "colab": {
      "provenance": []
    },
    "kernelspec": {
      "display_name": "Python 3",
      "name": "python3"
    },
    "language_info": {
      "name": "python"
    }
  },
  "nbformat": 4,
  "nbformat_minor": 0
}
