{
  "cells": [
    {
      "cell_type": "code",
      "execution_count": 22,
      "metadata": {
        "id": "r-wmPiGzt9OI"
      },
      "outputs": [],
      "source": [
        "from pyspark.sql import SparkSession\n",
        "from pyspark.sql.functions import col, explode, split, regexp_replace, year, count, row_number, lower, to_timestamp\n",
        "from pyspark.sql.window import Window\n",
        "from pyspark.sql.types import StructType, StructField, StringType\n",
        "import xml.etree.ElementTree as ET\n",
        "from google.colab import files"
      ]
    },
    {
      "cell_type": "code",
      "execution_count": 23,
      "metadata": {
        "id": "yoekCga3mOOo"
      },
      "outputs": [],
      "source": [
        "# создание сессии Spark\n",
        "spark = SparkSession.builder \\\n",
        "    .appName(\"lab2\") \\\n",
        "    .getOrCreate()"
      ]
    },
    {
      "cell_type": "code",
      "execution_count": 25,
      "metadata": {
        "id": "ttxeFxJouo9m"
      },
      "outputs": [],
      "source": [
        "xml_file = '/content/drive/MyDrive/Colab Notebooks/posts_sample.xml'\n",
        "tree = ET.parse(xml_file)\n",
        "root = tree.getroot()\n",
        "data = []\n",
        "\n",
        "# парсинг\n",
        "for row in root.findall('row'):\n",
        "    # парсинг полей\n",
        "    creation_date = row.attrib.get('CreationDate')\n",
        "    tags = row.attrib.get('Tags')\n",
        "\n",
        "    if (creation_date and tags) is not None:\n",
        "        tags_clean = tags.replace('<', '').replace('>', ' ').strip().split()\n",
        "        for tag in tags_clean:\n",
        "            data.append((creation_date, tag))"
      ]
    },
    {
      "cell_type": "code",
      "execution_count": 33,
      "metadata": {
        "colab": {
          "base_uri": "https://localhost:8080/"
        },
        "id": "3WduId3Cuu6V",
        "outputId": "9a9023d8-26fb-427f-b233-c591b209bc97"
      },
      "outputs": [
        {
          "name": "stdout",
          "output_type": "stream",
          "text": [
            "+-------------------+----+\n",
            "|                Tag|Year|\n",
            "+-------------------+----+\n",
            "|                 c#|2008|\n",
            "|     floating-point|2008|\n",
            "|    type-conversion|2008|\n",
            "|             double|2008|\n",
            "|            decimal|2008|\n",
            "|               html|2008|\n",
            "|                css|2008|\n",
            "|internet-explorer-7|2008|\n",
            "|                 c#|2008|\n",
            "|               .net|2008|\n",
            "|           datetime|2008|\n",
            "|                 c#|2008|\n",
            "|           datetime|2008|\n",
            "|               time|2008|\n",
            "|           datediff|2008|\n",
            "| relative-time-span|2008|\n",
            "|               html|2008|\n",
            "|            browser|2008|\n",
            "|           timezone|2008|\n",
            "|         user-agent|2008|\n",
            "+-------------------+----+\n",
            "only showing top 20 rows\n",
            "\n"
          ]
        }
      ],
      "source": [
        "# структура данных для схемы DataFrame\n",
        "schema = StructType([\n",
        "    StructField(\"CreationDate\", StringType(), True),\n",
        "    StructField(\"Tag\", StringType(), True)])\n",
        "\n",
        "posts_df = spark.createDataFrame(data, schema=schema)\n",
        "\n",
        "# извлечение года из временных данных\n",
        "posts_df = posts_df.withColumn(\"Year\", year(to_timestamp(col(\"CreationDate\"))))\n",
        "posts_df = posts_df.drop(\"CreationDate\")\n",
        "\n",
        "posts_df.show()"
      ]
    },
    {
      "cell_type": "code",
      "execution_count": null,
      "metadata": {
        "colab": {
          "base_uri": "https://localhost:8080/"
        },
        "id": "VLMiF8oZuzW-",
        "outputId": "9ba6cab3-8fb0-47ff-c548-2d653de4d926"
      },
      "outputs": [
        {
          "name": "stdout",
          "output_type": "stream",
          "text": [
            "+-----------+----+-----------+--------------------+\n",
            "|        Tag|Year|       name|       wikipedia_url|\n",
            "+-----------+----+-----------+--------------------+\n",
            "|       java|2010|       java|https://en.wikipe...|\n",
            "|        php|2010|        php|https://en.wikipe...|\n",
            "|       ruby|2010|       ruby|https://en.wikipe...|\n",
            "|          c|2010|          c|https://en.wikipe...|\n",
            "|        php|2010|        php|https://en.wikipe...|\n",
            "|     python|2010|     python|https://en.wikipe...|\n",
            "| javascript|2010| javascript|https://en.wikipe...|\n",
            "|applescript|2010|applescript|https://en.wikipe...|\n",
            "|        php|2010|        php|https://en.wikipe...|\n",
            "|        php|2010|        php|https://en.wikipe...|\n",
            "| javascript|2010| javascript|https://en.wikipe...|\n",
            "|        sed|2010|        sed|https://en.wikipe...|\n",
            "|     python|2010|     python|https://en.wikipe...|\n",
            "|       java|2010|       java|https://en.wikipe...|\n",
            "|       ruby|2010|       ruby|https://en.wikipe...|\n",
            "|objective-c|2010|objective-c|https://en.wikipe...|\n",
            "| javascript|2010| javascript|https://en.wikipe...|\n",
            "|          r|2010|          r|https://en.wikipe...|\n",
            "|        php|2010|        php|https://en.wikipe...|\n",
            "| javascript|2010| javascript|https://en.wikipe...|\n",
            "+-----------+----+-----------+--------------------+\n",
            "only showing top 20 rows\n",
            "\n"
          ]
        }
      ],
      "source": [
        "csv_file = '/content/drive/MyDrive/Colab Notebooks/programming-languages.csv'\n",
        "languages_df = spark.read.csv(csv_file, header=True)\n",
        "\n",
        "# приведение тегов к нижнему регистру\n",
        "languages_df = languages_df.withColumn(\"name\", lower(col(\"name\")))\n",
        "\n",
        "# inner join по тегам и названиям языков\n",
        "joined_df = posts_df.join(languages_df, posts_df.Tag == languages_df.name,\n",
        "                            \"inner\")\n",
        "\n",
        "filtered_df.show()\n"
      ]
    },
    {
      "cell_type": "code",
      "execution_count": 49,
      "metadata": {
        "colab": {
          "base_uri": "https://localhost:8080/"
        },
        "id": "WU-Aq1q2u1gv",
        "outputId": "a7cf486c-fd5d-4593-910f-a06de05aeba0"
      },
      "outputs": [
        {
          "name": "stdout",
          "output_type": "stream",
          "text": [
            "+----+-----------+-----+----+\n",
            "|Year|        Tag|Count|Rank|\n",
            "+----+-----------+-----+----+\n",
            "|2008|       java|    5|   1|\n",
            "|2008|       ruby|    4|   2|\n",
            "|2008|          c|    2|   3|\n",
            "|2008| javascript|    2|   4|\n",
            "|2008|        x++|    1|   5|\n",
            "|2008|     python|    1|   6|\n",
            "|2008|         io|    1|   7|\n",
            "|2008|     groovy|    1|   8|\n",
            "|2008|        php|    1|   9|\n",
            "|2009|       java|   28|   1|\n",
            "|2009|     python|   23|   2|\n",
            "|2009|        php|   22|   3|\n",
            "|2009| javascript|   12|   4|\n",
            "|2009|       ruby|    8|   5|\n",
            "|2009|     delphi|    7|   6|\n",
            "|2009|          c|    6|   7|\n",
            "|2009|objective-c|    6|   8|\n",
            "|2009|    haskell|    4|   9|\n",
            "|2009|       bash|    3|  10|\n",
            "|2010|       java|   52|   1|\n",
            "+----+-----------+-----+----+\n",
            "only showing top 20 rows\n",
            "\n"
          ]
        }
      ],
      "source": [
        "# группировка данных по Year и Tag с подсчетом количества упоминаний\n",
        "tag_counts = filtered_df.groupBy(\"Year\", \"Tag\").agg(count(\"*\").alias(\"Count\"))\n",
        "\n",
        "# определение окна для ранжирования\n",
        "window_spec = Window.partitionBy(\"Year\").orderBy(col(\"Count\").desc())\n",
        "\n",
        "# топ-10 языков по количеству упоминаний, сгруппированные по годам\n",
        "top10_df = tag_counts.withColumn(\"Rank\", row_number().over(window_spec)) \\\n",
        "                     .filter(col(\"Rank\") <= 10) \\\n",
        "                     .orderBy(\"Year\", \"Rank\")\n",
        "\n",
        "top10_df.show()"
      ]
    },
    {
      "cell_type": "code",
      "execution_count": 50,
      "metadata": {
        "colab": {
          "base_uri": "https://localhost:8080/",
          "height": 104
        },
        "id": "Sjw9c9Oau3Ru",
        "outputId": "d5b8f8ec-091b-40f4-8eb3-86c5f5c2b20e"
      },
      "outputs": [
        {
          "name": "stdout",
          "output_type": "stream",
          "text": [
            "  adding: top_languages.parquet/ (stored 0%)\n",
            "  adding: top_languages.parquet/._SUCCESS.crc (stored 0%)\n",
            "  adding: top_languages.parquet/part-00000-f0d189e4-a272-43d4-a7cd-2b35e9f89445-c000.snappy.parquet (deflated 36%)\n",
            "  adding: top_languages.parquet/.part-00000-f0d189e4-a272-43d4-a7cd-2b35e9f89445-c000.snappy.parquet.crc (stored 0%)\n",
            "  adding: top_languages.parquet/_SUCCESS (stored 0%)\n"
          ]
        },
        {
          "data": {
            "application/javascript": "\n    async function download(id, filename, size) {\n      if (!google.colab.kernel.accessAllowed) {\n        return;\n      }\n      const div = document.createElement('div');\n      const label = document.createElement('label');\n      label.textContent = `Downloading \"${filename}\": `;\n      div.appendChild(label);\n      const progress = document.createElement('progress');\n      progress.max = size;\n      div.appendChild(progress);\n      document.body.appendChild(div);\n\n      const buffers = [];\n      let downloaded = 0;\n\n      const channel = await google.colab.kernel.comms.open(id);\n      // Send a message to notify the kernel that we're ready.\n      channel.send({})\n\n      for await (const message of channel.messages) {\n        // Send a message to notify the kernel that we're ready.\n        channel.send({})\n        if (message.buffers) {\n          for (const buffer of message.buffers) {\n            buffers.push(buffer);\n            downloaded += buffer.byteLength;\n            progress.value = downloaded;\n          }\n        }\n      }\n      const blob = new Blob(buffers, {type: 'application/binary'});\n      const a = document.createElement('a');\n      a.href = window.URL.createObjectURL(blob);\n      a.download = filename;\n      div.appendChild(a);\n      a.click();\n      div.remove();\n    }\n  ",
            "text/plain": [
              "<IPython.core.display.Javascript object>"
            ]
          },
          "metadata": {},
          "output_type": "display_data"
        },
        {
          "data": {
            "application/javascript": "download(\"download_d0f7de3c-5c19-499d-a122-c7fbe916421c\", \"top_languages.zip\", 2581)",
            "text/plain": [
              "<IPython.core.display.Javascript object>"
            ]
          },
          "metadata": {},
          "output_type": "display_data"
        }
      ],
      "source": [
        "# сохранение DataFrame в Parquet\n",
        "top10_df.write.mode(\"overwrite\").parquet(\"top_languages.parquet\")\n",
        "! zip -r top_languages.zip top_languages.parquet\n",
        "files.download(\"top_languages.zip\")"
      ]
    }
  ],
  "metadata": {
    "colab": {
      "provenance": []
    },
    "kernelspec": {
      "display_name": "Python 3",
      "name": "python3"
    },
    "language_info": {
      "name": "python"
    }
  },
  "nbformat": 4,
  "nbformat_minor": 0
}
